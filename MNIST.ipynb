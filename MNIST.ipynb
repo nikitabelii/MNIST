{
  "cells": [
    {
      "cell_type": "code",
      "source": [
        "%%capture\n",
        "import numpy as np\n",
        "import matplotlib.pyplot as plt\n",
        "import torch\n",
        "from torchvision import datasets\n",
        "from skimage.util import montage\n",
        "!pip install wandb\n",
        "import wandb as wb\n",
        "from skimage.io import imread"
      ],
      "metadata": {
        "id": "MyHiLSocpj2Y"
      },
      "execution_count": null,
      "outputs": []
    },
    {
      "cell_type": "code",
      "metadata": {
        "id": "tRpmxWj7pl2f"
      },
      "source": [
        "def GPU(data):\n",
        "    return torch.tensor(data, requires_grad=True, dtype=torch.float, device=torch.device('cuda'))\n",
        "\n",
        "def GPU_data(data):\n",
        "    return torch.tensor(data, requires_grad=False, dtype=torch.float, device=torch.device('cuda'))"
      ],
      "execution_count": null,
      "outputs": []
    },
    {
      "cell_type": "code",
      "metadata": {
        "id": "1Wb_wkDZpl2f"
      },
      "source": [
        "def plot(x):\n",
        "    if type(x) == torch.Tensor :\n",
        "        x = x.cpu().detach().numpy()\n",
        "\n",
        "    fig, ax = plt.subplots()\n",
        "    im = ax.imshow(x, cmap = 'gray')\n",
        "    ax.axis('off')\n",
        "    fig.set_size_inches(7, 7)\n",
        "    plt.show()"
      ],
      "execution_count": null,
      "outputs": []
    },
    {
      "cell_type": "code",
      "metadata": {
        "id": "49-KePVupl2g"
      },
      "source": [
        "def montage_plot(x):\n",
        "    x = np.pad(x, pad_width=((0, 0), (1, 1), (1, 1)), mode='constant', constant_values=0)\n",
        "    plot(montage(x))"
      ],
      "execution_count": null,
      "outputs": []
    },
    {
      "cell_type": "code",
      "metadata": {
        "id": "frk1nplIpl2g",
        "colab": {
          "base_uri": "https://localhost:8080/"
        },
        "outputId": "42800bf1-d028-4f0d-98c1-4956bf350a7e"
      },
      "source": [
        "# #MNIST\n",
        "train_set = datasets.MNIST('./data', train=True, download=True)\n",
        "test_set = datasets.MNIST('./data', train=False, download=True)\n",
        "\n",
        "#KMNIST\n",
        "#train_set = datasets.KMNIST('./data', train=True, download=True)\n",
        "#test_set = datasets.KMNIST('./data', train=False, download=True)\n",
        "\n",
        "#Fashion MNIST\n",
        "# train_set = datasets.FashionMNIST('./data', train=True, download=True)\n",
        "# test_set = datasets.FashionMNIST('./data', train=False, download=True)"
      ],
      "execution_count": null,
      "outputs": [
        {
          "output_type": "stream",
          "name": "stdout",
          "text": [
            "Downloading http://yann.lecun.com/exdb/mnist/train-images-idx3-ubyte.gz\n",
            "Downloading http://yann.lecun.com/exdb/mnist/train-images-idx3-ubyte.gz to ./data/MNIST/raw/train-images-idx3-ubyte.gz\n"
          ]
        },
        {
          "output_type": "stream",
          "name": "stderr",
          "text": [
            "100%|██████████| 9912422/9912422 [00:00<00:00, 34135671.06it/s]\n"
          ]
        },
        {
          "output_type": "stream",
          "name": "stdout",
          "text": [
            "Extracting ./data/MNIST/raw/train-images-idx3-ubyte.gz to ./data/MNIST/raw\n",
            "\n",
            "Downloading http://yann.lecun.com/exdb/mnist/train-labels-idx1-ubyte.gz\n",
            "Downloading http://yann.lecun.com/exdb/mnist/train-labels-idx1-ubyte.gz to ./data/MNIST/raw/train-labels-idx1-ubyte.gz\n"
          ]
        },
        {
          "output_type": "stream",
          "name": "stderr",
          "text": [
            "100%|██████████| 28881/28881 [00:00<00:00, 97847894.85it/s]\n"
          ]
        },
        {
          "output_type": "stream",
          "name": "stdout",
          "text": [
            "Extracting ./data/MNIST/raw/train-labels-idx1-ubyte.gz to ./data/MNIST/raw\n",
            "\n",
            "Downloading http://yann.lecun.com/exdb/mnist/t10k-images-idx3-ubyte.gz\n",
            "Downloading http://yann.lecun.com/exdb/mnist/t10k-images-idx3-ubyte.gz to ./data/MNIST/raw/t10k-images-idx3-ubyte.gz\n"
          ]
        },
        {
          "output_type": "stream",
          "name": "stderr",
          "text": [
            "100%|██████████| 1648877/1648877 [00:00<00:00, 43233238.08it/s]\n"
          ]
        },
        {
          "output_type": "stream",
          "name": "stdout",
          "text": [
            "Extracting ./data/MNIST/raw/t10k-images-idx3-ubyte.gz to ./data/MNIST/raw\n",
            "\n",
            "Downloading http://yann.lecun.com/exdb/mnist/t10k-labels-idx1-ubyte.gz\n",
            "Downloading http://yann.lecun.com/exdb/mnist/t10k-labels-idx1-ubyte.gz to ./data/MNIST/raw/t10k-labels-idx1-ubyte.gz\n"
          ]
        },
        {
          "output_type": "stream",
          "name": "stderr",
          "text": [
            "100%|██████████| 4542/4542 [00:00<00:00, 4053303.99it/s]\n"
          ]
        },
        {
          "output_type": "stream",
          "name": "stdout",
          "text": [
            "Extracting ./data/MNIST/raw/t10k-labels-idx1-ubyte.gz to ./data/MNIST/raw\n",
            "\n"
          ]
        }
      ]
    },
    {
      "cell_type": "code",
      "metadata": {
        "id": "gg-B6om4pl2g"
      },
      "source": [
        "X = train_set.data.numpy()\n",
        "X_test = test_set.data.numpy()\n",
        "Y = train_set.targets.numpy()\n",
        "Y_test = test_set.targets.numpy()\n",
        "\n",
        "X = X[:,None,:,:]/255\n",
        "X_test = X_test[:,None,:,:]/255"
      ],
      "execution_count": null,
      "outputs": []
    },
    {
      "cell_type": "code",
      "metadata": {
        "colab": {
          "base_uri": "https://localhost:8080/"
        },
        "outputId": "b4fc4328-7700-4b37-802f-6fe4f4bf6e70",
        "id": "1vBIL7dhpl2h"
      },
      "source": [
        "X.shape"
      ],
      "execution_count": null,
      "outputs": [
        {
          "output_type": "execute_result",
          "data": {
            "text/plain": [
              "(60000, 1, 28, 28)"
            ]
          },
          "metadata": {},
          "execution_count": 7
        }
      ]
    },
    {
      "cell_type": "code",
      "source": [
        "x = X[3,0,:,:]"
      ],
      "metadata": {
        "id": "hkS1MDAICmed"
      },
      "execution_count": null,
      "outputs": []
    },
    {
      "cell_type": "code",
      "source": [
        "plt.imshow(x)"
      ],
      "metadata": {
        "colab": {
          "base_uri": "https://localhost:8080/",
          "height": 447
        },
        "id": "Ey0eWrWQC1xM",
        "outputId": "bf24567e-7894-4380-fae4-51b94ebf3a57"
      },
      "execution_count": null,
      "outputs": [
        {
          "output_type": "execute_result",
          "data": {
            "text/plain": [
              "<matplotlib.image.AxesImage at 0x7898e4bea9b0>"
            ]
          },
          "metadata": {},
          "execution_count": 9
        },
        {
          "output_type": "display_data",
          "data": {
            "text/plain": [
              "<Figure size 640x480 with 1 Axes>"
            ],
            "image/png": "[encoded data removed]"
          },
          "metadata": {}
        }
      ]
    },
    {
      "cell_type": "code",
      "source": [
        "plot(x)"
      ],
      "metadata": {
        "colab": {
          "base_uri": "https://localhost:8080/",
          "height": 576
        },
        "id": "Sts6RnquDhk7",
        "outputId": "6af202de-74d1-4a51-ba30-9cabf2e56e6a"
      },
      "execution_count": null,
      "outputs": [
        {
          "output_type": "display_data",
          "data": {
            "text/plain": [
              "<Figure size 700x700 with 1 Axes>"
            ],
            "image/png": "[encoded data removed]"
          },
          "metadata": {}
        }
      ]
    },
    {
      "cell_type": "code",
      "source": [
        "x.shape"
      ],
      "metadata": {
        "colab": {
          "base_uri": "https://localhost:8080/"
        },
        "id": "kUIWiq0LElLM",
        "outputId": "2cf2e8c3-dcac-47ea-ddcc-880527ae5001"
      },
      "execution_count": null,
      "outputs": [
        {
          "output_type": "execute_result",
          "data": {
            "text/plain": [
              "(28, 28)"
            ]
          },
          "metadata": {},
          "execution_count": 11
        }
      ]
    },
    {
      "cell_type": "code",
      "source": [
        "x.shape[0]"
      ],
      "metadata": {
        "colab": {
          "base_uri": "https://localhost:8080/"
        },
        "id": "AMNAyQkvEm2S",
        "outputId": "c9f5930f-311a-432f-cd07-88ce0037dc42"
      },
      "execution_count": null,
      "outputs": [
        {
          "output_type": "execute_result",
          "data": {
            "text/plain": [
              "28"
            ]
          },
          "metadata": {},
          "execution_count": 12
        }
      ]
    },
    {
      "cell_type": "code",
      "source": [
        "x.shape[1]"
      ],
      "metadata": {
        "colab": {
          "base_uri": "https://localhost:8080/"
        },
        "id": "jy2J7xliEsFq",
        "outputId": "ce86c016-3b05-48b6-e075-55df67131ee4"
      },
      "execution_count": null,
      "outputs": [
        {
          "output_type": "execute_result",
          "data": {
            "text/plain": [
              "28"
            ]
          },
          "metadata": {},
          "execution_count": 13
        }
      ]
    },
    {
      "cell_type": "code",
      "source": [
        "x = x.reshape(x.shape[0]*x.shape[1],1)"
      ],
      "metadata": {
        "id": "MVzBMr3ODJbV"
      },
      "execution_count": null,
      "outputs": []
    },
    {
      "cell_type": "code",
      "source": [
        "x.shape"
      ],
      "metadata": {
        "colab": {
          "base_uri": "https://localhost:8080/"
        },
        "id": "jN4wHqbpDkox",
        "outputId": "48cbe51d-2102-4b4f-bc8e-933cd108d178"
      },
      "execution_count": null,
      "outputs": [
        {
          "output_type": "execute_result",
          "data": {
            "text/plain": [
              "(784, 1)"
            ]
          },
          "metadata": {},
          "execution_count": 15
        }
      ]
    },
    {
      "cell_type": "code",
      "source": [
        "x = x.reshape(28,28)"
      ],
      "metadata": {
        "id": "yiRk_VSSD_vz"
      },
      "execution_count": null,
      "outputs": []
    },
    {
      "cell_type": "code",
      "source": [
        "plot(x)"
      ],
      "metadata": {
        "colab": {
          "base_uri": "https://localhost:8080/",
          "height": 576
        },
        "id": "1n3-IkGeEF6T",
        "outputId": "3d1aa222-e4a4-4b2e-cf59-85a3725ea186"
      },
      "execution_count": null,
      "outputs": [
        {
          "output_type": "display_data",
          "data": {
            "text/plain": [
              "<Figure size 700x700 with 1 Axes>"
            ],
            "image/png": "[encoded data removed]"
          },
          "metadata": {}
        }
      ]
    },
    {
      "cell_type": "code",
      "metadata": {
        "colab": {
          "base_uri": "https://localhost:8080/",
          "height": 576
        },
        "outputId": "d1f2b184-ae4d-4f41-fb17-289f985203fe",
        "id": "_o384DZXpl2h"
      },
      "source": [
        "plot(X[100,0,:,:])"
      ],
      "execution_count": null,
      "outputs": [
        {
          "output_type": "display_data",
          "data": {
            "text/plain": [
              "<Figure size 700x700 with 1 Axes>"
            ],
            "image/png": "[encoded data removed]"
          },
          "metadata": {}
        }
      ]
    },
    {
      "cell_type": "code",
      "metadata": {
        "colab": {
          "base_uri": "https://localhost:8080/"
        },
        "outputId": "4dcf4baf-c449-4cb3-f295-aacb6cddd6dd",
        "id": "3-RBJefNpl2h"
      },
      "source": [
        "Y[120]"
      ],
      "execution_count": null,
      "outputs": [
        {
          "output_type": "execute_result",
          "data": {
            "text/plain": [
              "2"
            ]
          },
          "metadata": {},
          "execution_count": 19
        }
      ]
    },
    {
      "cell_type": "code",
      "metadata": {
        "colab": {
          "base_uri": "https://localhost:8080/"
        },
        "outputId": "08fa234d-5f88-4841-998b-8a1876fcc303",
        "id": "WLY5zYmkpl2i"
      },
      "source": [
        "X[0:25,0,:,:].shape"
      ],
      "execution_count": null,
      "outputs": [
        {
          "output_type": "execute_result",
          "data": {
            "text/plain": [
              "(25, 28, 28)"
            ]
          },
          "metadata": {},
          "execution_count": 20
        }
      ]
    },
    {
      "cell_type": "code",
      "metadata": {
        "colab": {
          "base_uri": "https://localhost:8080/",
          "height": 576
        },
        "outputId": "0d3392ab-fd0b-4e61-d1d9-37bc80039d9d",
        "id": "o-E8Pm-_pl2i"
      },
      "source": [
        "montage_plot(X[125:150,0,:,:])"
      ],
      "execution_count": null,
      "outputs": [
        {
          "output_type": "display_data",
          "data": {
            "text/plain": [
              "<Figure size 700x700 with 1 Axes>"
            ],
            "image/png": "[encoded data removed]"
          },
          "metadata": {}
        }
      ]
    },
    {
      "cell_type": "code",
      "metadata": {
        "colab": {
          "base_uri": "https://localhost:8080/"
        },
        "outputId": "5e30efac-4682-463a-9fc0-f9eee1a46b59",
        "id": "wMDDxcCOpl2i"
      },
      "source": [
        "X.shape[1]"
      ],
      "execution_count": null,
      "outputs": [
        {
          "output_type": "execute_result",
          "data": {
            "text/plain": [
              "1"
            ]
          },
          "metadata": {},
          "execution_count": 22
        }
      ]
    },
    {
      "cell_type": "code",
      "metadata": {
        "colab": {
          "base_uri": "https://localhost:8080/"
        },
        "outputId": "9c2700b5-2bac-4393-ad28-55a1139bacb3",
        "id": "CP91C9Elpl2i"
      },
      "source": [
        "X_test.shape"
      ],
      "execution_count": null,
      "outputs": [
        {
          "output_type": "execute_result",
          "data": {
            "text/plain": [
              "(10000, 1, 28, 28)"
            ]
          },
          "metadata": {},
          "execution_count": 23
        }
      ]
    },
    {
      "cell_type": "code",
      "metadata": {
        "colab": {
          "base_uri": "https://localhost:8080/"
        },
        "outputId": "a8872b8a-1ea4-46dd-8a06-facbf4ed497a",
        "id": "BlH93YkNpl2j"
      },
      "source": [
        "X.shape[0]"
      ],
      "execution_count": null,
      "outputs": [
        {
          "output_type": "execute_result",
          "data": {
            "text/plain": [
              "60000"
            ]
          },
          "metadata": {},
          "execution_count": 24
        }
      ]
    },
    {
      "cell_type": "code",
      "metadata": {
        "colab": {
          "base_uri": "https://localhost:8080/"
        },
        "outputId": "4e947a85-e1e3-4045-bc4f-9f9f42af3204",
        "id": "FTLOOvdipl2j"
      },
      "source": [
        "X_test.shape[0]"
      ],
      "execution_count": null,
      "outputs": [
        {
          "output_type": "execute_result",
          "data": {
            "text/plain": [
              "10000"
            ]
          },
          "metadata": {},
          "execution_count": 25
        }
      ]
    },
    {
      "cell_type": "code",
      "metadata": {
        "id": "CJRGYxtBpl2j"
      },
      "source": [
        "X = X.reshape(X.shape[0],784)\n",
        "X_test = X_test.reshape(X_test.shape[0],784)"
      ],
      "execution_count": null,
      "outputs": []
    },
    {
      "cell_type": "code",
      "metadata": {
        "colab": {
          "base_uri": "https://localhost:8080/"
        },
        "outputId": "5453b8c3-4c1c-4114-a7f7-8475c260f83b",
        "id": "LWUPirgjpl2j"
      },
      "source": [
        "X.shape,X_test.shape"
      ],
      "execution_count": null,
      "outputs": [
        {
          "output_type": "execute_result",
          "data": {
            "text/plain": [
              "((60000, 784), (10000, 784))"
            ]
          },
          "metadata": {},
          "execution_count": 27
        }
      ]
    },
    {
      "cell_type": "code",
      "metadata": {
        "colab": {
          "base_uri": "https://localhost:8080/",
          "height": 447
        },
        "outputId": "50c6aa77-f011-4185-b4ea-cc517a4bc69a",
        "id": "gNUXtEdrpl2k"
      },
      "source": [
        "plt.plot(X[100],'.')"
      ],
      "execution_count": null,
      "outputs": [
        {
          "output_type": "execute_result",
          "data": {
            "text/plain": [
              "[<matplotlib.lines.Line2D at 0x7898e2841870>]"
            ]
          },
          "metadata": {},
          "execution_count": 28
        },
        {
          "output_type": "display_data",
          "data": {
            "text/plain": [
              "<Figure size 640x480 with 1 Axes>"
            ],
            "image/png": "[encoded data removed]"
          },
          "metadata": {}
        }
      ]
    },
    {
      "cell_type": "code",
      "metadata": {
        "id": "dv0M1DuOpl2k"
      },
      "source": [
        "X = GPU_data(X)\n",
        "Y = GPU_data(Y)\n",
        "X_test = GPU_data(X_test)\n",
        "Y_test = GPU_data(Y_test)"
      ],
      "execution_count": null,
      "outputs": []
    },
    {
      "cell_type": "code",
      "metadata": {
        "id": "2LDQPWgtpl2k"
      },
      "source": [
        "###################################################"
      ],
      "execution_count": null,
      "outputs": []
    },
    {
      "cell_type": "code",
      "source": [
        "X.shape"
      ],
      "metadata": {
        "id": "afqyUTTQzqP1",
        "colab": {
          "base_uri": "https://localhost:8080/"
        },
        "outputId": "02abff22-035e-4312-aa0e-19702f17d401"
      },
      "execution_count": null,
      "outputs": [
        {
          "output_type": "execute_result",
          "data": {
            "text/plain": [
              "torch.Size([60000, 784])"
            ]
          },
          "metadata": {},
          "execution_count": 31
        }
      ]
    },
    {
      "cell_type": "code",
      "source": [
        "X = X.T"
      ],
      "metadata": {
        "id": "SD3LnOUGG15-"
      },
      "execution_count": null,
      "outputs": []
    },
    {
      "cell_type": "code",
      "source": [
        "X.shape"
      ],
      "metadata": {
        "colab": {
          "base_uri": "https://localhost:8080/"
        },
        "id": "guRzWM8aG99u",
        "outputId": "dee1153b-d443-4192-f272-88da75aefcd2"
      },
      "execution_count": null,
      "outputs": [
        {
          "output_type": "execute_result",
          "data": {
            "text/plain": [
              "torch.Size([784, 60000])"
            ]
          },
          "metadata": {},
          "execution_count": 33
        }
      ]
    },
    {
      "cell_type": "code",
      "source": [
        "x = X[:,0:64]"
      ],
      "metadata": {
        "id": "QcW8gTw-HuwH"
      },
      "execution_count": null,
      "outputs": []
    },
    {
      "cell_type": "code",
      "source": [
        "Y[0:64]"
      ],
      "metadata": {
        "colab": {
          "base_uri": "https://localhost:8080/"
        },
        "id": "IkBALdPWHy-X",
        "outputId": "a1ebb14d-982f-4765-c4be-ff7ee15f727e"
      },
      "execution_count": null,
      "outputs": [
        {
          "output_type": "execute_result",
          "data": {
            "text/plain": [
              "tensor([5., 0., 4., 1., 9., 2., 1., 3., 1., 4., 3., 5., 3., 6., 1., 7., 2., 8.,\n",
              "        6., 9., 4., 0., 9., 1., 1., 2., 4., 3., 2., 7., 3., 8., 6., 9., 0., 5.,\n",
              "        6., 0., 7., 6., 1., 8., 7., 9., 3., 9., 8., 5., 9., 3., 3., 0., 7., 4.,\n",
              "        9., 8., 0., 9., 4., 1., 4., 4., 6., 0.], device='cuda:0')"
            ]
          },
          "metadata": {},
          "execution_count": 35
        }
      ]
    },
    {
      "cell_type": "code",
      "source": [
        "plot(x[:,62].reshape(28,28))"
      ],
      "metadata": {
        "colab": {
          "base_uri": "https://localhost:8080/",
          "height": 576
        },
        "id": "ptrJUbQzH0pG",
        "outputId": "6d7b3d09-7874-4b41-b616-1d13219276ba"
      },
      "execution_count": null,
      "outputs": [
        {
          "output_type": "display_data",
          "data": {
            "text/plain": [
              "<Figure size 700x700 with 1 Axes>"
            ],
            "image/png": "[encoded data removed]"
          },
          "metadata": {}
        }
      ]
    },
    {
      "cell_type": "code",
      "source": [
        "M = GPU(np.random.rand(10,784))"
      ],
      "metadata": {
        "id": "6Ke1AL2NG-d9"
      },
      "execution_count": null,
      "outputs": []
    },
    {
      "cell_type": "code",
      "source": [
        "M.shape,x.shape"
      ],
      "metadata": {
        "colab": {
          "base_uri": "https://localhost:8080/"
        },
        "id": "70OhyyP_HSWa",
        "outputId": "531c75f8-e98d-4a4a-93f4-6aef943a27cc"
      },
      "execution_count": null,
      "outputs": [
        {
          "output_type": "execute_result",
          "data": {
            "text/plain": [
              "(torch.Size([10, 784]), torch.Size([784, 64]))"
            ]
          },
          "metadata": {},
          "execution_count": 38
        }
      ]
    },
    {
      "cell_type": "code",
      "source": [
        "#M@x"
      ],
      "metadata": {
        "id": "6k_1FPE5HTaq"
      },
      "execution_count": null,
      "outputs": []
    },
    {
      "cell_type": "code",
      "source": [
        "y = M@x"
      ],
      "metadata": {
        "id": "fCCxl8kuI33s"
      },
      "execution_count": null,
      "outputs": []
    },
    {
      "cell_type": "code",
      "source": [
        "y.shape"
      ],
      "metadata": {
        "colab": {
          "base_uri": "https://localhost:8080/"
        },
        "id": "_gKWpMyAI-aN",
        "outputId": "1f6ef02e-cf91-43a1-caaf-d2afd4a462ae"
      },
      "execution_count": null,
      "outputs": [
        {
          "output_type": "execute_result",
          "data": {
            "text/plain": [
              "torch.Size([10, 64])"
            ]
          },
          "metadata": {},
          "execution_count": 41
        }
      ]
    },
    {
      "cell_type": "code",
      "source": [
        "torch.max(y,0)"
      ],
      "metadata": {
        "colab": {
          "base_uri": "https://localhost:8080/"
        },
        "id": "dAn4IaAsKE69",
        "outputId": "58adaaf1-0789-4712-bd7e-7a8eb0b7db38"
      },
      "execution_count": null,
      "outputs": [
        {
          "output_type": "execute_result",
          "data": {
            "text/plain": [
              "torch.return_types.max(\n",
              "values=tensor([57.9111, 68.1139, 41.5454, 38.0118, 49.5515, 61.7173, 36.7544, 76.2139,\n",
              "        24.8282, 47.5695, 61.1844, 33.1717, 75.3345, 58.9802, 24.8097, 53.9463,\n",
              "        50.8648, 58.6303, 29.2499, 38.7614, 73.8350, 75.4458, 34.1948, 36.4473,\n",
              "        47.0416, 87.9732, 27.7992, 98.5799, 88.4018, 30.9793, 54.5321, 73.3499,\n",
              "        36.9700, 45.7032, 78.6101, 33.5515, 65.9234, 82.4778, 47.7008, 54.9644,\n",
              "        29.8478, 59.1570, 26.3873, 37.0484, 38.3322, 50.1884, 48.2924, 47.5448,\n",
              "        37.0489, 71.3254, 42.1914, 94.7634, 60.9659, 37.0503, 48.8766, 67.2230,\n",
              "        88.4355, 42.7995, 71.9903, 39.1336, 66.1836, 38.1584, 64.3073, 96.1938],\n",
              "       device='cuda:0', grad_fn=<MaxBackward0>),\n",
              "indices=tensor([4, 2, 0, 7, 3, 7, 0, 7, 0, 7, 2, 7, 7, 3, 0, 2, 5, 7, 2, 7, 7, 2, 7, 7,\n",
              "        2, 4, 7, 7, 2, 0, 2, 7, 5, 7, 2, 0, 2, 2, 2, 2, 0, 2, 0, 7, 7, 2, 7, 4,\n",
              "        2, 4, 2, 2, 2, 7, 0, 3, 3, 2, 7, 7, 3, 7, 7, 2], device='cuda:0'))"
            ]
          },
          "metadata": {},
          "execution_count": 42
        }
      ]
    },
    {
      "cell_type": "code",
      "source": [
        "y = torch.argmax(y,0)"
      ],
      "metadata": {
        "id": "6BL4Z02EJCzc"
      },
      "execution_count": null,
      "outputs": []
    },
    {
      "cell_type": "code",
      "source": [
        "y"
      ],
      "metadata": {
        "colab": {
          "base_uri": "https://localhost:8080/"
        },
        "id": "KLbZQBv5JKn8",
        "outputId": "2e7d165f-db6a-4280-9c1c-a7312d849aef"
      },
      "execution_count": null,
      "outputs": [
        {
          "output_type": "execute_result",
          "data": {
            "text/plain": [
              "tensor([4, 2, 0, 7, 3, 7, 0, 7, 0, 7, 2, 7, 7, 3, 0, 2, 5, 7, 2, 7, 7, 2, 7, 7,\n",
              "        2, 4, 7, 7, 2, 0, 2, 7, 5, 7, 2, 0, 2, 2, 2, 2, 0, 2, 0, 7, 7, 2, 7, 4,\n",
              "        2, 4, 2, 2, 2, 7, 0, 3, 3, 2, 7, 7, 3, 7, 7, 2], device='cuda:0')"
            ]
          },
          "metadata": {},
          "execution_count": 44
        }
      ]
    },
    {
      "cell_type": "code",
      "source": [
        "Y[0:64]"
      ],
      "metadata": {
        "colab": {
          "base_uri": "https://localhost:8080/"
        },
        "id": "-h8Gz74YKVCL",
        "outputId": "b4a30aee-9547-4788-fa56-cec338ad93cd"
      },
      "execution_count": null,
      "outputs": [
        {
          "output_type": "execute_result",
          "data": {
            "text/plain": [
              "tensor([5., 0., 4., 1., 9., 2., 1., 3., 1., 4., 3., 5., 3., 6., 1., 7., 2., 8.,\n",
              "        6., 9., 4., 0., 9., 1., 1., 2., 4., 3., 2., 7., 3., 8., 6., 9., 0., 5.,\n",
              "        6., 0., 7., 6., 1., 8., 7., 9., 3., 9., 8., 5., 9., 3., 3., 0., 7., 4.,\n",
              "        9., 8., 0., 9., 4., 1., 4., 4., 6., 0.], device='cuda:0')"
            ]
          },
          "metadata": {},
          "execution_count": 45
        }
      ]
    },
    {
      "cell_type": "code",
      "source": [
        "y == Y[0:64]"
      ],
      "metadata": {
        "colab": {
          "base_uri": "https://localhost:8080/"
        },
        "id": "gC4DXNrHKYer",
        "outputId": "be0ab8a6-cb7d-4b59-9754-723c3172a6a6"
      },
      "execution_count": null,
      "outputs": [
        {
          "output_type": "execute_result",
          "data": {
            "text/plain": [
              "tensor([False, False, False, False, False, False, False, False, False, False,\n",
              "        False, False, False, False, False, False, False, False, False, False,\n",
              "        False, False, False, False, False, False, False, False,  True, False,\n",
              "        False, False, False, False, False, False, False, False, False, False,\n",
              "        False, False, False, False, False, False, False, False, False, False,\n",
              "        False, False, False, False, False, False, False, False, False, False,\n",
              "        False, False, False, False], device='cuda:0')"
            ]
          },
          "metadata": {},
          "execution_count": 46
        }
      ]
    },
    {
      "cell_type": "code",
      "source": [
        "torch.sum((y == Y[0:64]))"
      ],
      "metadata": {
        "colab": {
          "base_uri": "https://localhost:8080/"
        },
        "id": "RmdOhGJSKgEK",
        "outputId": "bf604cf3-ca80-41de-e0ab-460861410c82"
      },
      "execution_count": null,
      "outputs": [
        {
          "output_type": "execute_result",
          "data": {
            "text/plain": [
              "tensor(1, device='cuda:0')"
            ]
          },
          "metadata": {},
          "execution_count": 47
        }
      ]
    },
    {
      "cell_type": "code",
      "source": [
        "torch.sum((y == Y[0:64]))/64"
      ],
      "metadata": {
        "id": "Y_vbum_LKix6",
        "outputId": "7c0b1aa6-e05d-4492-fa89-f3a0704ea8e9",
        "colab": {
          "base_uri": "https://localhost:8080/"
        }
      },
      "execution_count": null,
      "outputs": [
        {
          "output_type": "execute_result",
          "data": {
            "text/plain": [
              "tensor(0.0156, device='cuda:0')"
            ]
          },
          "metadata": {},
          "execution_count": 48
        }
      ]
    },
    {
      "cell_type": "code",
      "source": [
        "x.shape"
      ],
      "metadata": {
        "id": "VlHcWLndKotL"
      },
      "execution_count": null,
      "outputs": []
    },
    {
      "cell_type": "code",
      "source": [
        "batch_size = 64\n",
        "\n",
        "M = GPU(np.random.rand(10,784))\n",
        "\n",
        "y = M@x\n",
        "\n",
        "y = torch.argmax(y,0)\n",
        "\n",
        "torch.sum((y == Y[0:batch_size]))/batch_size"
      ],
      "metadata": {
        "colab": {
          "base_uri": "https://localhost:8080/"
        },
        "id": "rvBOU7RDBj5T",
        "outputId": "2016925c-51af-48cf-e3a1-ddfd68b8a853"
      },
      "execution_count": null,
      "outputs": [
        {
          "output_type": "execute_result",
          "data": {
            "text/plain": [
              "tensor(0.0938, device='cuda:0')"
            ]
          },
          "metadata": {},
          "execution_count": 49
        }
      ]
    },
    {
      "cell_type": "code",
      "source": [],
      "metadata": {
        "id": "sSleYyj3RmmF"
      },
      "execution_count": null,
      "outputs": []
    },
    {
      "cell_type": "code",
      "source": [
        "z = np.random.rand(10,784)"
      ],
      "metadata": {
        "id": "t2NshVZQRnUz"
      },
      "execution_count": null,
      "outputs": []
    },
    {
      "cell_type": "code",
      "source": [
        "z.shape"
      ],
      "metadata": {
        "colab": {
          "base_uri": "https://localhost:8080/"
        },
        "id": "bRfo8I1IRnW7",
        "outputId": "8249109b-2319-4c46-d894-89c760b9a911"
      },
      "execution_count": null,
      "outputs": [
        {
          "output_type": "execute_result",
          "data": {
            "text/plain": [
              "(10, 784)"
            ]
          },
          "metadata": {},
          "execution_count": 51
        }
      ]
    },
    {
      "cell_type": "code",
      "source": [
        "z.shape[0],z.shape[1]"
      ],
      "metadata": {
        "colab": {
          "base_uri": "https://localhost:8080/"
        },
        "id": "fR5gikC6RvQZ",
        "outputId": "4a10e0b3-2b43-4484-c167-419640fe0d92"
      },
      "execution_count": null,
      "outputs": [
        {
          "output_type": "execute_result",
          "data": {
            "text/plain": [
              "(10, 784)"
            ]
          },
          "metadata": {},
          "execution_count": 52
        }
      ]
    },
    {
      "cell_type": "code",
      "source": [
        "count = z.shape[0]*z.shape[1]"
      ],
      "metadata": {
        "id": "CXy-RqlBRxOI"
      },
      "execution_count": null,
      "outputs": []
    },
    {
      "cell_type": "code",
      "source": [
        "z = z.reshape(count,)"
      ],
      "metadata": {
        "id": "PPb9QIJARnY2"
      },
      "execution_count": null,
      "outputs": []
    },
    {
      "cell_type": "code",
      "source": [
        "z.shape"
      ],
      "metadata": {
        "colab": {
          "base_uri": "https://localhost:8080/"
        },
        "id": "Oa_og2AmRstT",
        "outputId": "37bd4473-bd1f-4b9e-df2c-45f5e419c552"
      },
      "execution_count": null,
      "outputs": [
        {
          "output_type": "execute_result",
          "data": {
            "text/plain": [
              "(7840,)"
            ]
          },
          "metadata": {},
          "execution_count": 55
        }
      ]
    },
    {
      "cell_type": "code",
      "source": [
        "z = np.random.rand(10,784)"
      ],
      "metadata": {
        "id": "UCG-u2M5Rsvb"
      },
      "execution_count": null,
      "outputs": []
    },
    {
      "cell_type": "code",
      "source": [
        "z.shape"
      ],
      "metadata": {
        "colab": {
          "base_uri": "https://localhost:8080/"
        },
        "id": "MxGr8sB1R6wc",
        "outputId": "780dc9d0-70e9-438c-cb97-2739f3822b8a"
      },
      "execution_count": null,
      "outputs": [
        {
          "output_type": "execute_result",
          "data": {
            "text/plain": [
              "(10, 784)"
            ]
          },
          "metadata": {},
          "execution_count": 57
        }
      ]
    },
    {
      "cell_type": "code",
      "source": [
        "z = z.flatten()"
      ],
      "metadata": {
        "id": "S9etO1KUR6yk"
      },
      "execution_count": null,
      "outputs": []
    },
    {
      "cell_type": "code",
      "source": [
        "z.shape"
      ],
      "metadata": {
        "colab": {
          "base_uri": "https://localhost:8080/"
        },
        "id": "L8gt53WPSDVr",
        "outputId": "4cd9c922-8235-4adf-a660-4af5adb7bf73"
      },
      "execution_count": null,
      "outputs": [
        {
          "output_type": "execute_result",
          "data": {
            "text/plain": [
              "(7840,)"
            ]
          },
          "metadata": {},
          "execution_count": 59
        }
      ]
    },
    {
      "cell_type": "code",
      "source": [
        "z = np.random.rand(1000,78)"
      ],
      "metadata": {
        "id": "HuyNCZImSDYT"
      },
      "execution_count": null,
      "outputs": []
    },
    {
      "cell_type": "code",
      "source": [
        "z = z.reshape(-1)"
      ],
      "metadata": {
        "id": "RRzkNDadSJNj"
      },
      "execution_count": null,
      "outputs": []
    },
    {
      "cell_type": "code",
      "source": [
        "z.shape"
      ],
      "metadata": {
        "colab": {
          "base_uri": "https://localhost:8080/"
        },
        "id": "WN_AC6yjSDaE",
        "outputId": "e4e669bc-5eb4-4e6e-8b1d-43874d319487"
      },
      "execution_count": null,
      "outputs": [
        {
          "output_type": "execute_result",
          "data": {
            "text/plain": [
              "(78000,)"
            ]
          },
          "metadata": {},
          "execution_count": 62
        }
      ]
    },
    {
      "cell_type": "code",
      "source": [
        "plt.hist(z,1000);"
      ],
      "metadata": {
        "colab": {
          "base_uri": "https://localhost:8080/",
          "height": 430
        },
        "id": "-LEE2EF4SVvF",
        "outputId": "4920d400-7766-43fe-9e87-e4670bb8e6f0"
      },
      "execution_count": null,
      "outputs": [
        {
          "output_type": "display_data",
          "data": {
            "text/plain": [
              "<Figure size 640x480 with 1 Axes>"
            ],
            "image/png": "[encoded data removed]"
          },
          "metadata": {}
        }
      ]
    },
    {
      "cell_type": "code",
      "source": [
        "z = 1000*np.random.rand(10000) + 100"
      ],
      "metadata": {
        "id": "FERYPmCVS-aS"
      },
      "execution_count": null,
      "outputs": []
    },
    {
      "cell_type": "code",
      "source": [],
      "metadata": {
        "id": "FIK5sQxsUGRf"
      },
      "execution_count": null,
      "outputs": []
    },
    {
      "cell_type": "code",
      "source": [
        "z"
      ],
      "metadata": {
        "colab": {
          "base_uri": "https://localhost:8080/"
        },
        "id": "QqPoAjsWSVxf",
        "outputId": "bfa404e0-9c55-4d69-f19e-7819f45440bc"
      },
      "execution_count": null,
      "outputs": [
        {
          "output_type": "execute_result",
          "data": {
            "text/plain": [
              "array([866.25249871, 911.49463597, 471.00234553, ..., 530.52564419,\n",
              "       444.0608602 , 995.59462142])"
            ]
          },
          "metadata": {},
          "execution_count": 65
        }
      ]
    },
    {
      "cell_type": "code",
      "source": [
        "np.max(z)"
      ],
      "metadata": {
        "colab": {
          "base_uri": "https://localhost:8080/"
        },
        "id": "04C6QGntT_1m",
        "outputId": "7ba3a420-57c2-4f06-88e9-8ccc44b84805"
      },
      "execution_count": null,
      "outputs": [
        {
          "output_type": "execute_result",
          "data": {
            "text/plain": [
              "1099.9474113592928"
            ]
          },
          "metadata": {},
          "execution_count": 66
        }
      ]
    },
    {
      "cell_type": "code",
      "source": [
        "z =z.astype(int)"
      ],
      "metadata": {
        "id": "c9s3fNv1TP4h"
      },
      "execution_count": null,
      "outputs": []
    },
    {
      "cell_type": "code",
      "source": [
        "plt.hist(z,100);"
      ],
      "metadata": {
        "colab": {
          "base_uri": "https://localhost:8080/",
          "height": 430
        },
        "id": "9AP-4Su2SDb8",
        "outputId": "3ff34598-add2-4b26-d50c-3e4dd7b58f92"
      },
      "execution_count": null,
      "outputs": [
        {
          "output_type": "display_data",
          "data": {
            "text/plain": [
              "<Figure size 640x480 with 1 Axes>"
            ],
            "image/png": "[encoded data removed]"
          },
          "metadata": {}
        }
      ]
    },
    {
      "cell_type": "code",
      "source": [
        "z"
      ],
      "metadata": {
        "colab": {
          "base_uri": "https://localhost:8080/"
        },
        "id": "Xu8QIrrnTK74",
        "outputId": "78d81d40-0ae3-4eef-806d-715fcc85cca8"
      },
      "execution_count": null,
      "outputs": [
        {
          "output_type": "execute_result",
          "data": {
            "text/plain": [
              "array([866, 911, 471, ..., 530, 444, 995])"
            ]
          },
          "metadata": {},
          "execution_count": 69
        }
      ]
    },
    {
      "cell_type": "code",
      "source": [],
      "metadata": {
        "id": "h1dl16fFThv4"
      },
      "execution_count": null,
      "outputs": []
    },
    {
      "cell_type": "code",
      "source": [
        "z = 10*np.random.randn(10000) - 10"
      ],
      "metadata": {
        "id": "m1vgsRysT0fH"
      },
      "execution_count": null,
      "outputs": []
    },
    {
      "cell_type": "code",
      "source": [
        "z = z.flatten()"
      ],
      "metadata": {
        "id": "_eNfRh4TT0hX"
      },
      "execution_count": null,
      "outputs": []
    },
    {
      "cell_type": "code",
      "source": [
        "plt.hist(z,100);"
      ],
      "metadata": {
        "colab": {
          "base_uri": "https://localhost:8080/",
          "height": 435
        },
        "id": "LcjXklZBT0jO",
        "outputId": "530d2f12-343d-4196-d1e3-14fc4372f8b4"
      },
      "execution_count": null,
      "outputs": [
        {
          "output_type": "display_data",
          "data": {
            "text/plain": [
              "<Figure size 640x480 with 1 Axes>"
            ],
            "image/png": "[encoded data removed]"
          },
          "metadata": {}
        }
      ]
    },
    {
      "cell_type": "code",
      "source": [
        "z = np.random.randn(10,10)\n",
        "plt.imshow(z)\n",
        "plt.colorbar()"
      ],
      "metadata": {
        "colab": {
          "base_uri": "https://localhost:8080/",
          "height": 447
        },
        "id": "4YLBfOyWU-Nl",
        "outputId": "cfaf80ab-6506-4c1a-c92e-4b08e4fdfbe8"
      },
      "execution_count": null,
      "outputs": [
        {
          "output_type": "execute_result",
          "data": {
            "text/plain": [
              "<matplotlib.colorbar.Colorbar at 0x7898dee72560>"
            ]
          },
          "metadata": {},
          "execution_count": 73
        },
        {
          "output_type": "display_data",
          "data": {
            "text/plain": [
              "<Figure size 640x480 with 2 Axes>"
            ],
            "image/png": "[encoded data removed]"
          },
          "metadata": {}
        }
      ]
    },
    {
      "cell_type": "code",
      "source": [
        "z = np.random.rand(10,10)\n",
        "plt.imshow(z)\n",
        "plt.colorbar()"
      ],
      "metadata": {
        "colab": {
          "base_uri": "https://localhost:8080/",
          "height": 447
        },
        "id": "bIAigqtKVOmL",
        "outputId": "812a8efe-6cc7-4858-92bd-6fa020c03974"
      },
      "execution_count": null,
      "outputs": [
        {
          "output_type": "execute_result",
          "data": {
            "text/plain": [
              "<matplotlib.colorbar.Colorbar at 0x7898dec62f20>"
            ]
          },
          "metadata": {},
          "execution_count": 74
        },
        {
          "output_type": "display_data",
          "data": {
            "text/plain": [
              "<Figure size 640x480 with 2 Axes>"
            ],
            "image/png": "[encoded data removed]"
          },
          "metadata": {}
        }
      ]
    },
    {
      "cell_type": "code",
      "source": [],
      "metadata": {
        "id": "_PcDqVjVVOou"
      },
      "execution_count": null,
      "outputs": []
    },
    {
      "cell_type": "code",
      "source": [
        "M_Best = 0\n",
        "Score_Best = 0\n",
        "\n",
        "for i in range(100000):\n",
        "\n",
        "    M_new = GPU(np.random.rand(10,784))\n",
        "\n",
        "    y = M_new@x\n",
        "\n",
        "    y = torch.argmax(y,0)\n",
        "\n",
        "    Score = (torch.sum((y == Y[0:batch_size]))/batch_size).item()\n",
        "\n",
        "    if Score > Score_Best:\n",
        "\n",
        "        Score_Best = Score\n",
        "        M_Best = M_new\n",
        "\n",
        "        print(i,Score_Best)\n",
        "\n"
      ],
      "metadata": {
        "id": "6eVpNWpUBgiz",
        "colab": {
          "base_uri": "https://localhost:8080/"
        },
        "outputId": "5b74adef-e15e-4a64-d136-d1a788112d40"
      },
      "execution_count": null,
      "outputs": [
        {
          "output_type": "stream",
          "name": "stdout",
          "text": [
            "0 0.03125\n",
            "2 0.140625\n",
            "16 0.203125\n",
            "124 0.21875\n",
            "388 0.234375\n",
            "1333 0.265625\n",
            "2040 0.28125\n",
            "4120 0.296875\n",
            "6314 0.3125\n",
            "10986 0.328125\n",
            "40853 0.359375\n"
          ]
        }
      ]
    },
    {
      "cell_type": "code",
      "source": [
        "#37"
      ],
      "metadata": {
        "id": "5uhymgL3Bgky"
      },
      "execution_count": null,
      "outputs": []
    },
    {
      "cell_type": "code",
      "source": [
        "plot(GPU(np.random.randn(10,784)))"
      ],
      "metadata": {
        "colab": {
          "base_uri": "https://localhost:8080/",
          "height": 43
        },
        "id": "_mnYUnWHF4eZ",
        "outputId": "a4d0b0ce-23b7-4bd7-a0ad-6f968d1ee579"
      },
      "execution_count": null,
      "outputs": [
        {
          "output_type": "display_data",
          "data": {
            "text/plain": [
              "<Figure size 700x700 with 1 Axes>"
            ],
            "image/png": "[encoded data removed]"
          },
          "metadata": {}
        }
      ]
    },
    {
      "cell_type": "code",
      "source": [],
      "metadata": {
        "id": "fHiYBSJjlIgE"
      },
      "execution_count": null,
      "outputs": []
    },
    {
      "cell_type": "code",
      "source": [],
      "metadata": {
        "id": "O7L7x00KlRos"
      },
      "execution_count": null,
      "outputs": []
    },
    {
      "cell_type": "code",
      "source": [],
      "metadata": {
        "id": "1te8vAKNlRsL"
      },
      "execution_count": null,
      "outputs": []
    },
    {
      "cell_type": "code",
      "source": [],
      "metadata": {
        "id": "lXSb3TsulRu-"
      },
      "execution_count": null,
      "outputs": []
    },
    {
      "cell_type": "code",
      "source": [],
      "metadata": {
        "id": "tJ3hAhfOlRxl"
      },
      "execution_count": null,
      "outputs": []
    },
    {
      "cell_type": "code",
      "source": [],
      "metadata": {
        "id": "txTj8SoelRzx"
      },
      "execution_count": null,
      "outputs": []
    },
    {
      "cell_type": "code",
      "source": [],
      "metadata": {
        "id": "E5abJlDRlR2L"
      },
      "execution_count": null,
      "outputs": []
    },
    {
      "cell_type": "code",
      "source": [
        "# Random Walk"
      ],
      "metadata": {
        "id": "3DTpAf2AlR4X"
      },
      "execution_count": null,
      "outputs": []
    },
    {
      "cell_type": "code",
      "source": [
        "import torch\n",
        "import numpy as np\n",
        "import torchvision\n",
        "import torchvision.datasets as datasets\n",
        "import matplotlib.pyplot as plt"
      ],
      "metadata": {
        "id": "X3TWsxFre9G5"
      },
      "execution_count": null,
      "outputs": []
    },
    {
      "cell_type": "code",
      "source": [
        "def plot(x,title=None):\n",
        "    if type(x) == torch.Tensor :\n",
        "        x = x.cpu().detach().numpy()\n",
        "\n",
        "    fig, ax = plt.subplots()\n",
        "    im = ax.imshow(x, cmap = 'gray')\n",
        "    ax.axis('off')\n",
        "    fig.set_size_inches(7, 7)\n",
        "    plt.title(title)\n",
        "    plt.show()"
      ],
      "metadata": {
        "id": "GCpFIiRFnhYA"
      },
      "execution_count": null,
      "outputs": []
    },
    {
      "cell_type": "code",
      "source": [
        "##MNIST\n",
        "# train_set = datasets.MNIST('./data', train=True, download=True)\n",
        "# test_set = datasets.MNIST('./data', train=False, download=True)\n",
        "\n",
        "#KMNIST\n",
        "train_set = datasets.KMNIST('./data', train=True, download=True)\n",
        "test_set = datasets.KMNIST('./data', train=False, download=True)\n",
        "\n",
        "# Fashion MNIST\n",
        "#train_set = datasets.FashionMNIST('./data', train=True, download=True)\n",
        "#test_set = datasets.FashionMNIST('./data', train=False, download=True)"
      ],
      "metadata": {
        "id": "ZSjTh1VbfLhd",
        "colab": {
          "base_uri": "https://localhost:8080/"
        },
        "outputId": "7a77de8c-e7c9-4140-e511-ce07d7c3dd39"
      },
      "execution_count": null,
      "outputs": [
        {
          "output_type": "stream",
          "name": "stdout",
          "text": [
            "Downloading http://codh.rois.ac.jp/kmnist/dataset/kmnist/train-images-idx3-ubyte.gz\n",
            "Downloading http://codh.rois.ac.jp/kmnist/dataset/kmnist/train-images-idx3-ubyte.gz to ./data/KMNIST/raw/train-images-idx3-ubyte.gz\n"
          ]
        },
        {
          "output_type": "stream",
          "name": "stderr",
          "text": [
            "100%|██████████| 18165135/18165135 [00:09<00:00, 1990012.30it/s]\n"
          ]
        },
        {
          "output_type": "stream",
          "name": "stdout",
          "text": [
            "Extracting ./data/KMNIST/raw/train-images-idx3-ubyte.gz to ./data/KMNIST/raw\n",
            "\n",
            "Downloading http://codh.rois.ac.jp/kmnist/dataset/kmnist/train-labels-idx1-ubyte.gz\n",
            "Downloading http://codh.rois.ac.jp/kmnist/dataset/kmnist/train-labels-idx1-ubyte.gz to ./data/KMNIST/raw/train-labels-idx1-ubyte.gz\n"
          ]
        },
        {
          "output_type": "stream",
          "name": "stderr",
          "text": [
            "100%|██████████| 29497/29497 [00:00<00:00, 277242.32it/s]\n"
          ]
        },
        {
          "output_type": "stream",
          "name": "stdout",
          "text": [
            "Extracting ./data/KMNIST/raw/train-labels-idx1-ubyte.gz to ./data/KMNIST/raw\n",
            "\n",
            "Downloading http://codh.rois.ac.jp/kmnist/dataset/kmnist/t10k-images-idx3-ubyte.gz\n",
            "Downloading http://codh.rois.ac.jp/kmnist/dataset/kmnist/t10k-images-idx3-ubyte.gz to ./data/KMNIST/raw/t10k-images-idx3-ubyte.gz\n"
          ]
        },
        {
          "output_type": "stream",
          "name": "stderr",
          "text": [
            "100%|██████████| 3041136/3041136 [00:02<00:00, 1283577.52it/s]\n"
          ]
        },
        {
          "output_type": "stream",
          "name": "stdout",
          "text": [
            "Extracting ./data/KMNIST/raw/t10k-images-idx3-ubyte.gz to ./data/KMNIST/raw\n",
            "\n",
            "Downloading http://codh.rois.ac.jp/kmnist/dataset/kmnist/t10k-labels-idx1-ubyte.gz\n",
            "Downloading http://codh.rois.ac.jp/kmnist/dataset/kmnist/t10k-labels-idx1-ubyte.gz to ./data/KMNIST/raw/t10k-labels-idx1-ubyte.gz\n"
          ]
        },
        {
          "output_type": "stream",
          "name": "stderr",
          "text": [
            "100%|██████████| 5120/5120 [00:00<00:00, 6569237.22it/s]"
          ]
        },
        {
          "output_type": "stream",
          "name": "stdout",
          "text": [
            "Extracting ./data/KMNIST/raw/t10k-labels-idx1-ubyte.gz to ./data/KMNIST/raw\n",
            "\n"
          ]
        },
        {
          "output_type": "stream",
          "name": "stderr",
          "text": [
            "\n"
          ]
        }
      ]
    },
    {
      "cell_type": "code",
      "source": [
        "X = train_set.data.numpy()\n",
        "X_test = test_set.data.numpy()\n",
        "Y = train_set.targets.numpy()\n",
        "Y_test = test_set.targets.numpy()\n",
        "\n",
        "X = X[:,None,:,:]/255\n",
        "X_test = X_test[:,None,:,:]/255"
      ],
      "metadata": {
        "id": "ou4RzKGbfOO2"
      },
      "execution_count": null,
      "outputs": []
    },
    {
      "cell_type": "code",
      "source": [
        "X.shape"
      ],
      "metadata": {
        "colab": {
          "base_uri": "https://localhost:8080/"
        },
        "id": "nQqpKb35fZow",
        "outputId": "efefab01-1cf9-423e-86b5-21ee85ca6b31"
      },
      "execution_count": null,
      "outputs": [
        {
          "output_type": "execute_result",
          "data": {
            "text/plain": [
              "(60000, 1, 28, 28)"
            ]
          },
          "metadata": {},
          "execution_count": 83
        }
      ]
    },
    {
      "cell_type": "code",
      "source": [
        "plt.imshow(X[0,0,:,:],cmap='gray')"
      ],
      "metadata": {
        "id": "OSO7fEmpfp7H",
        "colab": {
          "base_uri": "https://localhost:8080/"
        },
        "outputId": "41213b5c-9955-47bf-e96f-8096b5fe6aeb"
      },
      "execution_count": null,
      "outputs": [
        {
          "output_type": "execute_result",
          "data": {
            "text/plain": [
              "<matplotlib.image.AxesImage at 0x7898e28cd540>"
            ]
          },
          "metadata": {},
          "execution_count": 84
        },
        {
          "output_type": "display_data",
          "data": {
            "text/plain": [
              "<Figure size 640x480 with 1 Axes>"
            ],
            "image/png": "[encoded data removed]"
          },
          "metadata": {}
        }
      ]
    },
    {
      "cell_type": "code",
      "source": [
        "\n",
        "for i in range(10):\n",
        "    plt.imshow(X[i,0,:,:],cmap='gray')\n",
        "    plt.title(str(Y[i]))\n",
        "    plt.show()"
      ],
      "metadata": {
        "id": "KS0DeV8rf-yw",
        "colab": {
          "base_uri": "https://localhost:8080/",
          "height": 1000
        },
        "outputId": "446f6fc1-4698-4ae6-8d65-d2eb7bdf17e4"
      },
      "execution_count": null,
      "outputs": [
        {
          "output_type": "display_data",
          "data": {
            "text/plain": [
              "<Figure size 640x480 with 1 Axes>"
            ],
            "image/png": "[encoded data removed]"
          },
          "metadata": {}
        },
        {
          "output_type": "display_data",
          "data": {
            "text/plain": [
              "<Figure size 640x480 with 1 Axes>"
            ],
            "image/png": "[encoded data removed]"
          },
          "metadata": {}
        },
        {
          "output_type": "display_data",
          "data": {
            "text/plain": [
              "<Figure size 640x480 with 1 Axes>"
            ],
            "image/png": "[encoded data removed]"
          },
          "metadata": {}
        },
        {
          "output_type": "display_data",
          "data": {
            "text/plain": [
              "<Figure size 640x480 with 1 Axes>"
            ],
            "image/png": "[encoded data removed]"
          },
          "metadata": {}
        },
        {
          "output_type": "display_data",
          "data": {
            "text/plain": [
              "<Figure size 640x480 with 1 Axes>"
            ],
            "image/png": "[encoded data removed]"
          },
          "metadata": {}
        },
        {
          "output_type": "display_data",
          "data": {
            "text/plain": [
              "<Figure size 640x480 with 1 Axes>"
            ],
            "image/png": "[encoded data removed]"
          },
          "metadata": {}
        },
        {
          "output_type": "display_data",
          "data": {
            "text/plain": [
              "<Figure size 640x480 with 1 Axes>"
            ],
            "image/png": "[encoded data removed]"
          },
          "metadata": {}
        },
        {
          "output_type": "display_data",
          "data": {
            "text/plain": [
              "<Figure size 640x480 with 1 Axes>"
            ],
            "image/png": "[encoded data removed]"
          },
          "metadata": {}
        },
        {
          "output_type": "display_data",
          "data": {
            "text/plain": [
              "<Figure size 640x480 with 1 Axes>"
            ],
            "image/png": "[encoded data removed]"
          },
          "metadata": {}
        },
        {
          "output_type": "display_data",
          "data": {
            "text/plain": [
              "<Figure size 640x480 with 1 Axes>"
            ],
            "image/png": "[encoded data removed]"
          },
          "metadata": {}
        }
      ]
    },
    {
      "cell_type": "code",
      "source": [
        "Y[0:10]"
      ],
      "metadata": {
        "colab": {
          "base_uri": "https://localhost:8080/"
        },
        "id": "3NhqnG9sgLDt",
        "outputId": "19c3d53a-54b3-4bf7-d47a-e0a20f62fcee"
      },
      "execution_count": null,
      "outputs": [
        {
          "output_type": "execute_result",
          "data": {
            "text/plain": [
              "array([8, 7, 0, 1, 4, 2, 4, 8, 1, 1])"
            ]
          },
          "metadata": {},
          "execution_count": 86
        }
      ]
    },
    {
      "cell_type": "code",
      "source": [
        "X[0,0,:,:].shape"
      ],
      "metadata": {
        "colab": {
          "base_uri": "https://localhost:8080/"
        },
        "id": "yoVzBNsRgt_m",
        "outputId": "0482d5b1-ef85-46f3-ee8c-4f89a0deeb3a"
      },
      "execution_count": null,
      "outputs": [
        {
          "output_type": "execute_result",
          "data": {
            "text/plain": [
              "(28, 28)"
            ]
          },
          "metadata": {},
          "execution_count": 87
        }
      ]
    },
    {
      "cell_type": "code",
      "source": [
        "x = X[0,0,:,:].flatten()"
      ],
      "metadata": {
        "id": "Hu1AhSTFhCEj"
      },
      "execution_count": null,
      "outputs": []
    },
    {
      "cell_type": "code",
      "source": [
        "x.shape"
      ],
      "metadata": {
        "colab": {
          "base_uri": "https://localhost:8080/"
        },
        "id": "KXsLqoTxhFCC",
        "outputId": "c37a7eed-d303-4cc2-a7df-c85ed2373ab2"
      },
      "execution_count": null,
      "outputs": [
        {
          "output_type": "execute_result",
          "data": {
            "text/plain": [
              "(784,)"
            ]
          },
          "metadata": {},
          "execution_count": 89
        }
      ]
    },
    {
      "cell_type": "code",
      "source": [
        "plt.plot(x,'.')"
      ],
      "metadata": {
        "colab": {
          "base_uri": "https://localhost:8080/"
        },
        "id": "UeiHBEjjhJqi",
        "outputId": "9aa120bb-d01b-4423-ee6c-73aa9f32ab05"
      },
      "execution_count": null,
      "outputs": [
        {
          "output_type": "execute_result",
          "data": {
            "text/plain": [
              "[<matplotlib.lines.Line2D at 0x7898de950190>]"
            ]
          },
          "metadata": {},
          "execution_count": 90
        },
        {
          "output_type": "display_data",
          "data": {
            "text/plain": [
              "<Figure size 640x480 with 1 Axes>"
            ],
            "image/png": "[encoded data removed]"
          },
          "metadata": {}
        }
      ]
    },
    {
      "cell_type": "code",
      "source": [
        "Y[0]"
      ],
      "metadata": {
        "colab": {
          "base_uri": "https://localhost:8080/"
        },
        "id": "NJvaK9M3hNI4",
        "outputId": "9d39bab3-b5a0-4b2c-a36d-726aa3b4eb18"
      },
      "execution_count": null,
      "outputs": [
        {
          "output_type": "execute_result",
          "data": {
            "text/plain": [
              "8"
            ]
          },
          "metadata": {},
          "execution_count": 91
        }
      ]
    },
    {
      "cell_type": "code",
      "source": [
        "x = x[:,None]"
      ],
      "metadata": {
        "id": "3fP4Jwl4hbCM"
      },
      "execution_count": null,
      "outputs": []
    },
    {
      "cell_type": "code",
      "source": [
        "x.shape"
      ],
      "metadata": {
        "colab": {
          "base_uri": "https://localhost:8080/"
        },
        "id": "BOHY0I2xhj7N",
        "outputId": "4ab81444-bcfa-40d4-ffe3-40da31165ab7"
      },
      "execution_count": null,
      "outputs": [
        {
          "output_type": "execute_result",
          "data": {
            "text/plain": [
              "(784, 1)"
            ]
          },
          "metadata": {},
          "execution_count": 93
        }
      ]
    },
    {
      "cell_type": "code",
      "source": [
        "m = np.random.standard_normal((10,784))"
      ],
      "metadata": {
        "id": "W5yrXHqdhla4"
      },
      "execution_count": null,
      "outputs": []
    },
    {
      "cell_type": "code",
      "source": [
        "m.shape,x.shape"
      ],
      "metadata": {
        "colab": {
          "base_uri": "https://localhost:8080/"
        },
        "id": "p-EpGKJWihPn",
        "outputId": "f27eff84-cf6e-43c2-e64a-550db45a2ef3"
      },
      "execution_count": null,
      "outputs": [
        {
          "output_type": "execute_result",
          "data": {
            "text/plain": [
              "((10, 784), (784, 1))"
            ]
          },
          "metadata": {},
          "execution_count": 95
        }
      ]
    },
    {
      "cell_type": "code",
      "source": [
        "y = m@x # @ mean matmul"
      ],
      "metadata": {
        "id": "Ey55572Kipzy"
      },
      "execution_count": null,
      "outputs": []
    },
    {
      "cell_type": "code",
      "source": [
        "y = np.matmul(m,x)"
      ],
      "metadata": {
        "id": "zswWV2_txFTC"
      },
      "execution_count": null,
      "outputs": []
    },
    {
      "cell_type": "code",
      "source": [
        "y.shape"
      ],
      "metadata": {
        "colab": {
          "base_uri": "https://localhost:8080/"
        },
        "id": "oqeYB-OIxM83",
        "outputId": "950a06ec-33d7-452a-e89f-c1e46248ae2e"
      },
      "execution_count": null,
      "outputs": [
        {
          "output_type": "execute_result",
          "data": {
            "text/plain": [
              "(10, 1)"
            ]
          },
          "metadata": {},
          "execution_count": 98
        }
      ]
    },
    {
      "cell_type": "code",
      "source": [
        "plt.plot(y,'.')"
      ],
      "metadata": {
        "colab": {
          "base_uri": "https://localhost:8080/"
        },
        "id": "v32LN4GKiyFK",
        "outputId": "f6d65a57-055a-4996-be20-d82fb079883f"
      },
      "execution_count": null,
      "outputs": [
        {
          "output_type": "execute_result",
          "data": {
            "text/plain": [
              "[<matplotlib.lines.Line2D at 0x7898def65090>]"
            ]
          },
          "metadata": {},
          "execution_count": 99
        },
        {
          "output_type": "display_data",
          "data": {
            "text/plain": [
              "<Figure size 640x480 with 1 Axes>"
            ],
            "image/png": "[encoded data removed]"
          },
          "metadata": {}
        }
      ]
    },
    {
      "cell_type": "code",
      "source": [
        "plt.imshow(x.reshape(28,28))"
      ],
      "metadata": {
        "colab": {
          "base_uri": "https://localhost:8080/"
        },
        "id": "YVh4mUWRi2Zg",
        "outputId": "9480b51d-030a-4d61-9505-fb4ac637719c"
      },
      "execution_count": null,
      "outputs": [
        {
          "output_type": "execute_result",
          "data": {
            "text/plain": [
              "<matplotlib.image.AxesImage at 0x7898defd4580>"
            ]
          },
          "metadata": {},
          "execution_count": 100
        },
        {
          "output_type": "display_data",
          "data": {
            "text/plain": [
              "<Figure size 640x480 with 1 Axes>"
            ],
            "image/png": "[encoded data removed]"
          },
          "metadata": {}
        }
      ]
    },
    {
      "cell_type": "code",
      "source": [
        "X.shape"
      ],
      "metadata": {
        "colab": {
          "base_uri": "https://localhost:8080/"
        },
        "id": "ZIi-Di8ji_xC",
        "outputId": "68f3666e-7424-4f87-d8c8-5bcfe9a07993"
      },
      "execution_count": null,
      "outputs": [
        {
          "output_type": "execute_result",
          "data": {
            "text/plain": [
              "(60000, 1, 28, 28)"
            ]
          },
          "metadata": {},
          "execution_count": 101
        }
      ]
    },
    {
      "cell_type": "code",
      "source": [
        "X.shape[0]"
      ],
      "metadata": {
        "colab": {
          "base_uri": "https://localhost:8080/"
        },
        "id": "8fSU88ALjxcG",
        "outputId": "d5634465-5378-4a2c-8880-7d06a332ea9d"
      },
      "execution_count": null,
      "outputs": [
        {
          "output_type": "execute_result",
          "data": {
            "text/plain": [
              "60000"
            ]
          },
          "metadata": {},
          "execution_count": 102
        }
      ]
    },
    {
      "cell_type": "code",
      "source": [
        "X.shape[2]*X.shape[3]"
      ],
      "metadata": {
        "colab": {
          "base_uri": "https://localhost:8080/"
        },
        "id": "9whZv4ctj0Gp",
        "outputId": "9fd646fa-e2da-46e0-d52f-79405df24fd0"
      },
      "execution_count": null,
      "outputs": [
        {
          "output_type": "execute_result",
          "data": {
            "text/plain": [
              "784"
            ]
          },
          "metadata": {},
          "execution_count": 103
        }
      ]
    },
    {
      "cell_type": "code",
      "source": [
        "X = np.reshape(X, (X.shape[0],X.shape[2]*X.shape[3]))\n",
        "X_test = np.reshape(X_test, (X_test.shape[0],X_test.shape[2]*X_test.shape[3]))"
      ],
      "metadata": {
        "id": "HdE8XvU_jYgU"
      },
      "execution_count": null,
      "outputs": []
    },
    {
      "cell_type": "code",
      "source": [
        "X.shape"
      ],
      "metadata": {
        "colab": {
          "base_uri": "https://localhost:8080/"
        },
        "id": "_-sFrW0gj716",
        "outputId": "ecd25e67-8aef-4ffb-ebee-fe494d2b58ee"
      },
      "execution_count": null,
      "outputs": [
        {
          "output_type": "execute_result",
          "data": {
            "text/plain": [
              "(60000, 784)"
            ]
          },
          "metadata": {},
          "execution_count": 105
        }
      ]
    },
    {
      "cell_type": "code",
      "source": [
        "plt.imshow(X[1000,:].reshape(28,28))"
      ],
      "metadata": {
        "colab": {
          "base_uri": "https://localhost:8080/",
          "height": 141
        },
        "id": "txoBhjwBj95y",
        "outputId": "de6b4c2d-e252-408e-8542-3e2db2fd2cf0"
      },
      "execution_count": null,
      "outputs": [
        {
          "output_type": "error",
          "ename": "NameError",
          "evalue": "name 'plt' is not defined",
          "traceback": [
            "\u001b[0;31m---------------------------------------------------------------------------\u001b[0m",
            "\u001b[0;31mNameError\u001b[0m                                 Traceback (most recent call last)",
            "\u001b[0;32m<ipython-input-1-e4a4d6713a1f>\u001b[0m in \u001b[0;36m<cell line: 1>\u001b[0;34m()\u001b[0m\n\u001b[0;32m----> 1\u001b[0;31m \u001b[0mplt\u001b[0m\u001b[0;34m.\u001b[0m\u001b[0mimshow\u001b[0m\u001b[0;34m(\u001b[0m\u001b[0mX\u001b[0m\u001b[0;34m[\u001b[0m\u001b[0;36m1000\u001b[0m\u001b[0;34m,\u001b[0m\u001b[0;34m:\u001b[0m\u001b[0;34m]\u001b[0m\u001b[0;34m.\u001b[0m\u001b[0mreshape\u001b[0m\u001b[0;34m(\u001b[0m\u001b[0;36m28\u001b[0m\u001b[0;34m,\u001b[0m\u001b[0;36m28\u001b[0m\u001b[0;34m)\u001b[0m\u001b[0;34m)\u001b[0m\u001b[0;34m\u001b[0m\u001b[0;34m\u001b[0m\u001b[0m\n\u001b[0m",
            "\u001b[0;31mNameError\u001b[0m: name 'plt' is not defined"
          ]
        }
      ]
    },
    {
      "cell_type": "code",
      "source": [
        "Y[1000]"
      ],
      "metadata": {
        "colab": {
          "base_uri": "https://localhost:8080/"
        },
        "id": "l8CZaznOxt6h",
        "outputId": "2886ae19-8d95-4674-b7df-f82baafc5a92"
      },
      "execution_count": null,
      "outputs": [
        {
          "output_type": "execute_result",
          "data": {
            "text/plain": [
              "3"
            ]
          },
          "metadata": {},
          "execution_count": 107
        }
      ]
    },
    {
      "cell_type": "code",
      "source": [
        "x = X[0:2,:]"
      ],
      "metadata": {
        "id": "J697Nvj8kHmS"
      },
      "execution_count": null,
      "outputs": []
    },
    {
      "cell_type": "code",
      "source": [
        "x.shape"
      ],
      "metadata": {
        "colab": {
          "base_uri": "https://localhost:8080/"
        },
        "id": "YctgmjB6kNer",
        "outputId": "0e9f058f-3ca2-438e-bff9-dbac5cb32f65"
      },
      "execution_count": null,
      "outputs": [
        {
          "output_type": "execute_result",
          "data": {
            "text/plain": [
              "(2, 784)"
            ]
          },
          "metadata": {},
          "execution_count": 109
        }
      ]
    },
    {
      "cell_type": "code",
      "source": [
        "x = x.T"
      ],
      "metadata": {
        "id": "XpFHb_pPkOnt"
      },
      "execution_count": null,
      "outputs": []
    },
    {
      "cell_type": "code",
      "source": [
        "m.shape,x.shape"
      ],
      "metadata": {
        "colab": {
          "base_uri": "https://localhost:8080/"
        },
        "id": "H7GfpLKakZKv",
        "outputId": "1133a9c1-6622-4f3f-ee17-6313021f6e1c"
      },
      "execution_count": null,
      "outputs": [
        {
          "output_type": "execute_result",
          "data": {
            "text/plain": [
              "((10, 784), (784, 2))"
            ]
          },
          "metadata": {},
          "execution_count": 111
        }
      ]
    },
    {
      "cell_type": "code",
      "source": [
        "y = m@x"
      ],
      "metadata": {
        "id": "DIM1EUNkkbKi"
      },
      "execution_count": null,
      "outputs": []
    },
    {
      "cell_type": "code",
      "source": [
        "y"
      ],
      "metadata": {
        "id": "32oVbJOTkr1u",
        "colab": {
          "base_uri": "https://localhost:8080/"
        },
        "outputId": "aa1b6305-3175-4949-8b27-a89b4dc5601f"
      },
      "execution_count": null,
      "outputs": [
        {
          "output_type": "execute_result",
          "data": {
            "text/plain": [
              "array([[ -7.64782174,  14.35284883],\n",
              "       [  6.60929191,   7.86742468],\n",
              "       [  7.28472205,  17.21911334],\n",
              "       [ 19.64907079, -13.47532084],\n",
              "       [-29.72042207,  -8.60534712],\n",
              "       [ -2.59227268,  -9.96086802],\n",
              "       [ -5.52894478, -17.8393249 ],\n",
              "       [ 13.18928013,   9.09499273],\n",
              "       [-22.75036735, -14.3148249 ],\n",
              "       [ 10.8377317 , -11.53241476]])"
            ]
          },
          "metadata": {},
          "execution_count": 113
        }
      ]
    },
    {
      "cell_type": "code",
      "source": [
        "np.max(y, axis=0)"
      ],
      "metadata": {
        "colab": {
          "base_uri": "https://localhost:8080/"
        },
        "id": "L2-3GuXNkubM",
        "outputId": "34be2926-3285-4ce1-9100-14895966f477"
      },
      "execution_count": null,
      "outputs": [
        {
          "output_type": "execute_result",
          "data": {
            "text/plain": [
              "array([19.64907079, 17.21911334])"
            ]
          },
          "metadata": {},
          "execution_count": 114
        }
      ]
    },
    {
      "cell_type": "code",
      "source": [
        "y = np.argmax(y, axis=0)"
      ],
      "metadata": {
        "id": "4XvZy4P7kxMD"
      },
      "execution_count": null,
      "outputs": []
    },
    {
      "cell_type": "code",
      "source": [
        "Y[0:2]"
      ],
      "metadata": {
        "colab": {
          "base_uri": "https://localhost:8080/"
        },
        "id": "pCAnw3q8k_61",
        "outputId": "6a01ce3f-dd06-4061-dc09-e7497c437a3d"
      },
      "execution_count": null,
      "outputs": [
        {
          "output_type": "execute_result",
          "data": {
            "text/plain": [
              "array([8, 7])"
            ]
          },
          "metadata": {},
          "execution_count": 116
        }
      ]
    },
    {
      "cell_type": "code",
      "source": [
        "y_ans = Y[0:2]"
      ],
      "metadata": {
        "id": "YfBj_0mvlHAI"
      },
      "execution_count": null,
      "outputs": []
    },
    {
      "cell_type": "code",
      "source": [
        "y_ans"
      ],
      "metadata": {
        "colab": {
          "base_uri": "https://localhost:8080/"
        },
        "id": "lUfVEqDLlT5L",
        "outputId": "ca15fdcc-529f-4955-8aa0-f47ca8e2a68f"
      },
      "execution_count": null,
      "outputs": [
        {
          "output_type": "execute_result",
          "data": {
            "text/plain": [
              "array([8, 7])"
            ]
          },
          "metadata": {},
          "execution_count": 118
        }
      ]
    },
    {
      "cell_type": "code",
      "source": [
        "y"
      ],
      "metadata": {
        "colab": {
          "base_uri": "https://localhost:8080/"
        },
        "id": "8zmHStmjla45",
        "outputId": "0fdf7e86-a853-42b3-8cad-e23ba016028a"
      },
      "execution_count": null,
      "outputs": [
        {
          "output_type": "execute_result",
          "data": {
            "text/plain": [
              "array([3, 2])"
            ]
          },
          "metadata": {},
          "execution_count": 119
        }
      ]
    },
    {
      "cell_type": "code",
      "source": [
        "np.sum((y == y_ans))/len(y)"
      ],
      "metadata": {
        "colab": {
          "base_uri": "https://localhost:8080/"
        },
        "id": "ra5-je6slblR",
        "outputId": "833a9480-3460-4608-d197-6f27668fe99f"
      },
      "execution_count": null,
      "outputs": [
        {
          "output_type": "execute_result",
          "data": {
            "text/plain": [
              "0.0"
            ]
          },
          "metadata": {},
          "execution_count": 120
        }
      ]
    },
    {
      "cell_type": "code",
      "source": [
        "X.shape"
      ],
      "metadata": {
        "colab": {
          "base_uri": "https://localhost:8080/"
        },
        "id": "LC5DUhmrlikz",
        "outputId": "1254eb2e-74ed-4239-8e23-d297ee8dfb7f"
      },
      "execution_count": null,
      "outputs": [
        {
          "output_type": "execute_result",
          "data": {
            "text/plain": [
              "(60000, 784)"
            ]
          },
          "metadata": {},
          "execution_count": 121
        }
      ]
    },
    {
      "cell_type": "code",
      "source": [
        "X = X.T"
      ],
      "metadata": {
        "id": "gCDDEnP6ltXe"
      },
      "execution_count": null,
      "outputs": []
    },
    {
      "cell_type": "code",
      "source": [
        "X_test = X_test.T"
      ],
      "metadata": {
        "id": "YZGyGTgnPzKS"
      },
      "execution_count": null,
      "outputs": []
    },
    {
      "cell_type": "code",
      "source": [
        "m.shape,X.shape"
      ],
      "metadata": {
        "colab": {
          "base_uri": "https://localhost:8080/"
        },
        "id": "lhVq3XMUlz-1",
        "outputId": "1b24a593-9b79-4c75-aef9-a665f246ab54"
      },
      "execution_count": null,
      "outputs": [
        {
          "output_type": "execute_result",
          "data": {
            "text/plain": [
              "((10, 784), (784, 60000))"
            ]
          },
          "metadata": {},
          "execution_count": 124
        }
      ]
    },
    {
      "cell_type": "code",
      "source": [
        "y = m@X"
      ],
      "metadata": {
        "id": "f2KajRqMl0kn"
      },
      "execution_count": null,
      "outputs": []
    },
    {
      "cell_type": "code",
      "source": [
        "y.shape"
      ],
      "metadata": {
        "colab": {
          "base_uri": "https://localhost:8080/"
        },
        "id": "yQWfA9cel-YF",
        "outputId": "08094747-0af0-4302-ef4a-549d17b43594"
      },
      "execution_count": null,
      "outputs": [
        {
          "output_type": "execute_result",
          "data": {
            "text/plain": [
              "(10, 60000)"
            ]
          },
          "metadata": {},
          "execution_count": 126
        }
      ]
    },
    {
      "cell_type": "code",
      "source": [
        "y = np.argmax(y, axis=0)"
      ],
      "metadata": {
        "id": "kHcUiPggmAwF"
      },
      "execution_count": null,
      "outputs": []
    },
    {
      "cell_type": "code",
      "source": [
        "y_ans = Y"
      ],
      "metadata": {
        "id": "xih9q1sRmEND"
      },
      "execution_count": null,
      "outputs": []
    },
    {
      "cell_type": "code",
      "source": [
        "acc = np.sum(y == y_ans)/len(Y)"
      ],
      "metadata": {
        "id": "hcRN60bFmG0J"
      },
      "execution_count": null,
      "outputs": []
    },
    {
      "cell_type": "code",
      "source": [
        "acc"
      ],
      "metadata": {
        "colab": {
          "base_uri": "https://localhost:8080/"
        },
        "id": "JQfnHgHzmIfe",
        "outputId": "c71e055d-825e-4207-a873-58bcb5775419"
      },
      "execution_count": null,
      "outputs": [
        {
          "output_type": "execute_result",
          "data": {
            "text/plain": [
              "0.0701"
            ]
          },
          "metadata": {},
          "execution_count": 130
        }
      ]
    },
    {
      "cell_type": "code",
      "source": [],
      "metadata": {
        "id": "98EQDGLQmZZT"
      },
      "execution_count": null,
      "outputs": []
    },
    {
      "cell_type": "code",
      "source": [
        "m = np.random.standard_normal((10,784))\n",
        "\n",
        "y = m@X\n",
        "\n",
        "y = np.argmax(y, axis=0)\n",
        "\n",
        "acc = np.sum(y == y_ans)/len(Y)\n",
        "\n",
        "print(acc)"
      ],
      "metadata": {
        "colab": {
          "base_uri": "https://localhost:8080/"
        },
        "id": "jHSB1ZCJmc3c",
        "outputId": "76b11fc4-d58b-4d1a-c210-d11f9866a3e4"
      },
      "execution_count": null,
      "outputs": [
        {
          "output_type": "stream",
          "name": "stdout",
          "text": [
            "0.08253333333333333\n"
          ]
        }
      ]
    },
    {
      "cell_type": "code",
      "source": [
        "m_best = 0\n",
        "acc_best = 0\n",
        "\n",
        "for i in range(1000):\n",
        "\n",
        "    m = 0.1*np.random.standard_normal((10,784))\n",
        "\n",
        "    y = m@X\n",
        "\n",
        "    y = np.argmax(y, axis=0)\n",
        "\n",
        "    acc = np.sum(y == y_ans)/len(Y)\n",
        "\n",
        "\n",
        "    if acc > acc_best:\n",
        "        print(acc)\n",
        "        m_best = m\n",
        "        acc_best = acc"
      ],
      "metadata": {
        "id": "j5OMhhdzmnib",
        "colab": {
          "base_uri": "https://localhost:8080/"
        },
        "outputId": "2f9a86ac-dba4-4cc5-8e34-1e1c01cf5940"
      },
      "execution_count": null,
      "outputs": [
        {
          "output_type": "stream",
          "name": "stdout",
          "text": [
            "0.09141666666666666\n",
            "0.11043333333333333\n",
            "0.1304\n",
            "0.168\n",
            "0.17205\n",
            "0.18636666666666668\n",
            "0.18826666666666667\n"
          ]
        }
      ]
    },
    {
      "cell_type": "code",
      "source": [
        "def GPU(data):\n",
        "    return torch.tensor(data, requires_grad=True, dtype=torch.float, device=torch.device('cuda'))\n",
        "\n",
        "def GPU_data(data):\n",
        "    return torch.tensor(data, requires_grad=False, dtype=torch.float, device=torch.device('cuda'))"
      ],
      "metadata": {
        "id": "Z5ijFhoNUwiX"
      },
      "execution_count": null,
      "outputs": []
    },
    {
      "cell_type": "code",
      "source": [
        "X = GPU_data(X)\n",
        "Y = GPU_data(Y)\n",
        "X_test = GPU_data(X_test)\n",
        "Y_test = GPU_data(Y_test)"
      ],
      "metadata": {
        "id": "albma-mgUzZ_"
      },
      "execution_count": null,
      "outputs": []
    },
    {
      "cell_type": "code",
      "source": [
        "# def scale(img):\n",
        "#     img_min = torch.min(img)\n",
        "#     img_max = torch.max(img)\n",
        "#     scaled = (img - img_min) / (img_max - img_min) * 1.0\n",
        "#     return scaled"
      ],
      "metadata": {
        "id": "p6RdNfK_Tbbt"
      },
      "execution_count": null,
      "outputs": []
    },
    {
      "cell_type": "code",
      "source": [
        "# X = scale(X)\n",
        "# X_test = scale(X_test)"
      ],
      "metadata": {
        "id": "wra63qB6bMD1"
      },
      "execution_count": null,
      "outputs": []
    },
    {
      "cell_type": "code",
      "source": [
        "m_best = 0\n",
        "acc_best = 0\n",
        "\n",
        "for i in range(100000):\n",
        "\n",
        "    step = 0.0000000001\n",
        "\n",
        "    m_random = GPU_data(np.random.randn(10,784))\n",
        "\n",
        "    m = m_best  + step*m_random\n",
        "\n",
        "    y = m@X\n",
        "\n",
        "    y = torch.argmax(y, axis=0)\n",
        "\n",
        "    acc = ((y == Y)).sum()/len(Y)\n",
        "\n",
        "\n",
        "    if acc > acc_best:\n",
        "        print(acc.item())\n",
        "        m_best = m\n",
        "        acc_best = acc"
      ],
      "metadata": {
        "id": "UljqXpWHmutW",
        "colab": {
          "base_uri": "https://localhost:8080/"
        },
        "outputId": "309775ef-3dfa-4363-c7bb-7ffc377a0234"
      },
      "execution_count": null,
      "outputs": [
        {
          "output_type": "stream",
          "name": "stdout",
          "text": [
            "0.15354999899864197\n",
            "0.17024999856948853\n",
            "0.17268332839012146\n",
            "0.18095000088214874\n",
            "0.19513332843780518\n",
            "0.2061166763305664\n",
            "0.20986667275428772\n",
            "0.21230000257492065\n",
            "0.22273333370685577\n",
            "0.2247166633605957\n",
            "0.23250000178813934\n",
            "0.23458333313465118\n",
            "0.23636667430400848\n",
            "0.23641666769981384\n",
            "0.23703333735466003\n",
            "0.23983334004878998\n",
            "0.2455500066280365\n",
            "0.2555333375930786\n",
            "0.25760000944137573\n",
            "0.26089999079704285\n",
            "0.26475000381469727\n",
            "0.2740499973297119\n",
            "0.27531665563583374\n",
            "0.2768999934196472\n",
            "0.27906668186187744\n",
            "0.2878666818141937\n",
            "0.29573333263397217\n",
            "0.2971666753292084\n",
            "0.30568334460258484\n",
            "0.31306666135787964\n",
            "0.3235166668891907\n",
            "0.32760000228881836\n",
            "0.33678334951400757\n",
            "0.3428666591644287\n",
            "0.3435666561126709\n",
            "0.3452666699886322\n",
            "0.3457166850566864\n",
            "0.35199999809265137\n",
            "0.35374999046325684\n",
            "0.3554333448410034\n",
            "0.35975000262260437\n",
            "0.3598499894142151\n",
            "0.36061668395996094\n",
            "0.3630666732788086\n",
            "0.3696500062942505\n",
            "0.372050017118454\n",
            "0.3722499907016754\n",
            "0.3755333423614502\n",
            "0.3811333477497101\n",
            "0.382916659116745\n",
            "0.3868499994277954\n",
            "0.38804998993873596\n",
            "0.3885999917984009\n",
            "0.39145001769065857\n",
            "0.3938833475112915\n",
            "0.39410001039505005\n",
            "0.3977166712284088\n",
            "0.4039333462715149\n",
            "0.40433332324028015\n",
            "0.4073333442211151\n",
            "0.40763333439826965\n",
            "0.4087333381175995\n",
            "0.40915000438690186\n",
            "0.4108666777610779\n",
            "0.41138333082199097\n",
            "0.414083331823349\n",
            "0.41464999318122864\n",
            "0.4156166613101959\n",
            "0.41868335008621216\n",
            "0.41929998993873596\n",
            "0.42055001854896545\n",
            "0.42141667008399963\n",
            "0.42178332805633545\n",
            "0.42293334007263184\n",
            "0.4230666756629944\n",
            "0.4254000186920166\n",
            "0.42746666073799133\n",
            "0.42791667580604553\n",
            "0.4284500181674957\n",
            "0.42856666445732117\n",
            "0.4310666620731354\n",
            "0.4311666786670685\n",
            "0.4327166676521301\n",
            "0.4362333416938782\n",
            "0.43843334913253784\n",
            "0.4398333430290222\n",
            "0.4419333338737488\n",
            "0.4421166777610779\n",
            "0.4437499940395355\n",
            "0.445250004529953\n",
            "0.4464833438396454\n",
            "0.44761666655540466\n",
            "0.4485166668891907\n",
            "0.452183336019516\n",
            "0.4525666832923889\n",
            "0.4533500075340271\n",
            "0.45553332567214966\n",
            "0.45581668615341187\n",
            "0.45586666464805603\n",
            "0.4560833275318146\n",
            "0.45711666345596313\n",
            "0.45719999074935913\n",
            "0.45820000767707825\n",
            "0.45838335156440735\n",
            "0.45856666564941406\n",
            "0.4595833420753479\n",
            "0.4604833424091339\n",
            "0.46078333258628845\n",
            "0.4624499976634979\n",
            "0.46459999680519104\n",
            "0.4673500061035156\n",
            "0.4676666855812073\n",
            "0.46799999475479126\n",
            "0.46836668252944946\n",
            "0.47110000252723694\n",
            "0.4723166823387146\n",
            "0.4728666841983795\n",
            "0.4756166636943817\n",
            "0.47636666893959045\n",
            "0.4778500199317932\n",
            "0.47886666655540466\n",
            "0.4804333448410034\n",
            "0.4807499945163727\n",
            "0.48510000109672546\n",
            "0.48669999837875366\n",
            "0.4869000017642975\n",
            "0.4875333309173584\n",
            "0.48836666345596313\n",
            "0.48953333497047424\n",
            "0.49035000801086426\n",
            "0.4905666708946228\n",
            "0.49079999327659607\n",
            "0.49114999175071716\n",
            "0.4918000102043152\n",
            "0.49195000529289246\n",
            "0.4927166700363159\n",
            "0.49373334646224976\n",
            "0.49380001425743103\n",
            "0.4940166771411896\n",
            "0.49533334374427795\n",
            "0.4959999918937683\n",
            "0.49646666646003723\n",
            "0.4965333342552185\n",
            "0.49863332509994507\n",
            "0.4987833499908447\n",
            "0.49935001134872437\n",
            "0.499833345413208\n",
            "0.5006999969482422\n",
            "0.5009499788284302\n",
            "0.5020000338554382\n",
            "0.5023833513259888\n",
            "0.5050833225250244\n",
            "0.5051500201225281\n",
            "0.5054166913032532\n",
            "0.5059000253677368\n",
            "0.5060833096504211\n",
            "0.5067166686058044\n",
            "0.5069500207901001\n",
            "0.5073666572570801\n",
            "0.5089333653450012\n",
            "0.5098833441734314\n",
            "0.5106000304222107\n",
            "0.512333333492279\n",
            "0.5125499963760376\n",
            "0.5130000114440918\n",
            "0.5137666463851929\n",
            "0.5163999795913696\n",
            "0.5172500014305115\n",
            "0.5175166726112366\n",
            "0.5196333527565002\n",
            "0.520466685295105\n",
            "0.5212000012397766\n",
            "0.5212500095367432\n",
            "0.5216166973114014\n",
            "0.5217833518981934\n",
            "0.5217999815940857\n",
            "0.5219333171844482\n",
            "0.5228000283241272\n",
            "0.5258499979972839\n",
            "0.5275333523750305\n",
            "0.52756667137146\n",
            "0.527649998664856\n",
            "0.5287166833877563\n",
            "0.5289833545684814\n",
            "0.5311166644096375\n",
            "0.5313166975975037\n",
            "0.5322499871253967\n",
            "0.5327333211898804\n",
            "0.5338333249092102\n",
            "0.5339833498001099\n",
            "0.5360166430473328\n",
            "0.536216676235199\n",
            "0.5367500185966492\n",
            "0.5368833541870117\n",
            "0.5376999974250793\n",
            "0.538183331489563\n",
            "0.5388666987419128\n",
            "0.5404999852180481\n",
            "0.5415499806404114\n",
            "0.5416666865348816\n",
            "0.5418500304222107\n",
            "0.5424000024795532\n",
            "0.5430166721343994\n",
            "0.543316662311554\n",
            "0.543749988079071\n",
            "0.5449000000953674\n",
            "0.5469333529472351\n",
            "0.5473666787147522\n",
            "0.5492833256721497\n",
            "0.5503000020980835\n",
            "0.5512666702270508\n",
            "0.5515000224113464\n",
            "0.5532000064849854\n",
            "0.5532666444778442\n",
            "0.5534833669662476\n",
            "0.5548833608627319\n",
            "0.555649995803833\n",
            "0.555899977684021\n",
            "0.5574666857719421\n",
            "0.559166669845581\n",
            "0.5602999925613403\n",
            "0.5606666803359985\n",
            "0.5608000159263611\n",
            "0.5611000061035156\n",
            "0.5621166825294495\n",
            "0.5630500316619873\n",
            "0.5641833543777466\n",
            "0.5642666816711426\n",
            "0.5644833445549011\n",
            "0.5647666454315186\n",
            "0.5647833347320557\n",
            "0.5651333332061768\n",
            "0.5651500225067139\n",
            "0.5662166476249695\n",
            "0.5662500262260437\n",
            "0.567633330821991\n",
            "0.5679833292961121\n",
            "0.5682500004768372\n",
            "0.5685666799545288\n",
            "0.5687166452407837\n",
            "0.5687500238418579\n",
            "0.5688666701316833\n",
            "0.5690333247184753\n",
            "0.5695833563804626\n",
            "0.5703999996185303\n",
            "0.5709500312805176\n",
            "0.5717666745185852\n",
            "0.5727500319480896\n",
            "0.574066698551178\n",
            "0.5745500326156616\n",
            "0.574833333492279\n",
            "0.5752333402633667\n",
            "0.5754166841506958\n",
            "0.57628333568573\n",
            "0.578083336353302\n",
            "0.5788999795913696\n",
            "0.5790666937828064\n",
            "0.5793166756629944\n",
            "0.57996666431427\n",
            "0.5811499953269958\n",
            "0.5826166868209839\n",
            "0.5830000042915344\n",
            "0.5830667018890381\n",
            "0.5833500027656555\n",
            "0.5848667025566101\n",
            "0.5854833126068115\n",
            "0.5857833623886108\n",
            "0.5859500169754028\n",
            "0.586650013923645\n",
            "0.5870833396911621\n",
            "0.5872166752815247\n",
            "0.5885500311851501\n",
            "0.5888833403587341\n",
            "0.5895000100135803\n",
            "0.5902000069618225\n",
            "0.5911833643913269\n",
            "0.5928000211715698\n",
            "0.5929666757583618\n",
            "0.5930166840553284\n",
            "0.5936833620071411\n",
            "0.5938666462898254\n",
            "0.5946999788284302\n",
            "0.5948833227157593\n",
            "0.5950499773025513\n",
            "0.5960333347320557\n",
            "0.5964666604995728\n",
            "0.596583366394043\n",
            "0.5967167019844055\n",
            "0.5969499945640564\n",
            "0.5970166921615601\n",
            "0.5973666906356812\n",
            "0.5977666974067688\n",
            "0.5984333157539368\n",
            "0.598633348941803\n",
            "0.5990666747093201\n",
            "0.5992833375930786\n",
            "0.6005333662033081\n",
            "0.6006166934967041\n",
            "0.6006333231925964\n",
            "0.6015000343322754\n",
            "0.6018500328063965\n",
            "0.6019333600997925\n",
            "0.602233350276947\n",
            "0.602483332157135\n",
            "0.6027500033378601\n",
            "0.6028666496276855\n",
            "0.6029333472251892\n",
            "0.6033166646957397\n",
            "0.6035666465759277\n",
            "0.6050500273704529\n",
            "0.605650007724762\n",
            "0.6058499813079834\n",
            "0.6065999865531921\n",
            "0.6067000031471252\n",
            "0.6069333553314209\n",
            "0.6075000166893005\n",
            "0.6076833605766296\n",
            "0.6082167029380798\n",
            "0.6088833212852478\n",
            "0.6093833446502686\n",
            "0.6100500226020813\n",
            "0.6105166673660278\n",
            "0.6113666892051697\n",
            "0.6114166975021362\n",
            "0.6115500330924988\n",
            "0.6117500066757202\n",
            "0.6120499968528748\n",
            "0.6123499870300293\n",
            "0.612416684627533\n",
            "0.6124666929244995\n",
            "0.6126333475112915\n",
            "0.6134499907493591\n",
            "0.6135666966438293\n",
            "0.6138499975204468\n",
            "0.6139166951179504\n",
            "0.614216685295105\n",
            "0.6148000359535217\n",
            "0.6152166724205017\n",
            "0.6155666708946228\n",
            "0.6155833601951599\n",
            "0.6158166527748108\n",
            "0.6158666610717773\n",
            "0.6169833540916443\n",
            "0.6184833645820618\n",
            "0.6187999844551086\n",
            "0.6191333532333374\n",
            "0.6194999814033508\n",
            "0.6199166774749756\n",
            "0.6203833222389221\n",
            "0.6204500198364258\n",
            "0.621066689491272\n",
            "0.6212000250816345\n",
            "0.6212666630744934\n",
            "0.6213499903678894\n",
            "0.6213833689689636\n",
            "0.621649980545044\n",
            "0.6223499774932861\n",
            "0.6227333545684814\n",
            "0.6231499910354614\n",
            "0.6237333416938782\n",
            "0.6237500309944153\n",
            "0.6238833665847778\n",
            "0.6239666938781738\n",
            "0.6244000196456909\n",
            "0.6245166659355164\n",
            "0.6252333521842957\n",
            "0.6256333589553833\n",
            "0.6256999969482422\n",
            "0.6259833574295044\n",
            "0.6264500021934509\n",
            "0.6265833377838135\n",
            "0.6266833543777466\n",
            "0.6273833513259888\n",
            "0.6275333166122437\n",
            "0.6280166506767273\n",
            "0.6284500360488892\n",
            "0.6284833550453186\n",
            "0.6286500096321106\n",
            "0.6288000345230103\n",
            "0.6299833655357361\n",
            "0.6302000284194946\n",
            "0.6306000351905823\n",
            "0.6309999823570251\n",
            "0.631433367729187\n",
            "0.6317999958992004\n",
            "0.6322500109672546\n",
            "0.6323000192642212\n",
            "0.6334333419799805\n",
            "0.6336333155632019\n",
            "0.6344333291053772\n",
            "0.6346499919891357\n",
            "0.635116696357727\n",
            "0.6355000138282776\n",
            "0.6360999941825867\n",
            "0.6363666653633118\n",
            "0.6366833448410034\n",
            "0.6368833184242249\n",
            "0.6376833319664001\n",
            "0.6385000348091125\n",
            "0.6386500000953674\n",
            "0.6389166712760925\n",
            "0.639116644859314\n",
            "0.6395833492279053\n",
            "0.6396833658218384\n",
            "0.6399499773979187\n",
            "0.6399999856948853\n",
            "0.6401833295822144\n",
            "0.6403499841690063\n",
            "0.6410166621208191\n",
            "0.6413000226020813\n",
            "0.64205002784729\n",
            "0.642633318901062\n",
            "0.6428999900817871\n",
            "0.6432166695594788\n",
            "0.6433500051498413\n",
            "0.6440333127975464\n",
            "0.6450999975204468\n",
            "0.6452333331108093\n",
            "0.6456666588783264\n",
            "0.6458166837692261\n",
            "0.6460666656494141\n",
            "0.6460999846458435\n",
            "0.6461833119392395\n",
            "0.6463833451271057\n",
            "0.6467500329017639\n",
            "0.6471166610717773\n",
            "0.6472166776657104\n",
            "0.6474666595458984\n",
            "0.647683322429657\n",
            "0.6478333473205566\n",
            "0.6479833126068115\n",
            "0.6481166481971741\n",
            "0.6482166647911072\n",
            "0.6482499837875366\n",
            "0.6483666896820068\n",
            "0.6490333676338196\n",
            "0.6491166949272156\n",
            "0.6492000222206116\n",
            "0.6496666669845581\n",
            "0.6501833200454712\n",
            "0.650433361530304\n",
            "0.6507666707038879\n",
            "0.6508499979972839\n",
            "0.6511499881744385\n",
            "0.6516166925430298\n",
            "0.6518000364303589\n",
            "0.6523500084877014\n",
            "0.6524166464805603\n",
            "0.6533166766166687\n",
            "0.6537500023841858\n",
            "0.6542500257492065\n",
            "0.6547166705131531\n",
            "0.6548500061035156\n",
            "0.6552667021751404\n",
            "0.6559833288192749\n",
            "0.6560500264167786\n",
            "0.6563000082969666\n",
            "0.6566833257675171\n",
            "0.6570500135421753\n",
            "0.6570833325386047\n",
            "0.6574333310127258\n",
            "0.6575000286102295\n",
            "0.6579166650772095\n",
            "0.6582833528518677\n",
            "0.6583333611488342\n",
            "0.6587499976158142\n",
            "0.6589333415031433\n",
            "0.6590333580970764\n",
            "0.659416675567627\n",
            "0.6599500179290771\n",
            "0.6599666476249695\n",
            "0.6602833271026611\n",
            "0.6606666445732117\n",
            "0.6607999801635742\n",
            "0.6614166498184204\n",
            "0.661549985408783\n",
            "0.6616833209991455\n",
            "0.6618000268936157\n",
            "0.6620333194732666\n",
            "0.6621000170707703\n",
            "0.6622833609580994\n",
            "0.6629499793052673\n",
            "0.663266658782959\n",
            "0.6633166670799255\n",
            "0.6639833450317383\n",
            "0.6643000245094299\n",
            "0.6652666926383972\n",
            "0.6655666828155518\n",
            "0.6656833291053772\n",
            "0.6659833192825317\n",
            "0.6660666465759277\n",
            "0.6662999987602234\n",
            "0.6671333312988281\n",
            "0.6673666834831238\n",
            "0.6675666570663452\n",
            "0.6676166653633118\n",
            "0.6676999926567078\n",
            "0.6677333116531372\n",
            "0.6680833697319031\n",
            "0.6684333682060242\n",
            "0.6686333417892456\n",
            "0.668666660785675\n",
            "0.6687166690826416\n",
            "0.6687999963760376\n",
            "0.6691666841506958\n",
            "0.6692333221435547\n",
            "0.6693166494369507\n",
            "0.669950008392334\n",
            "0.6701333522796631\n",
            "0.6704000234603882\n",
            "0.6704833507537842\n",
            "0.6706666946411133\n",
            "0.6707333326339722\n",
            "0.6709666848182678\n",
            "0.6710667014122009\n",
            "0.6719499826431274\n",
            "0.6724833250045776\n",
            "0.6726333498954773\n",
            "0.6726833581924438\n",
            "0.673799991607666\n",
            "0.6745833158493042\n",
            "0.674916684627533\n",
            "0.675083339214325\n",
            "0.6754833459854126\n",
            "0.6755499839782715\n",
            "0.6755666732788086\n",
            "0.6756666898727417\n",
            "0.6757333278656006\n",
            "0.6758833527565002\n",
            "0.6765333414077759\n",
            "0.6768500208854675\n",
            "0.6776666641235352\n",
            "0.6782333254814148\n",
            "0.6785500049591064\n",
            "0.678849995136261\n",
            "0.678933322429657\n",
            "0.6790333390235901\n",
            "0.6792500019073486\n",
            "0.6797666549682617\n",
            "0.6798166632652283\n",
            "0.6798499822616577\n",
            "0.6799166798591614\n",
            "0.6801833510398865\n",
            "0.6802666783332825\n",
            "0.6803666949272156\n",
            "0.6804333329200745\n",
            "0.6806166768074036\n",
            "0.6809333562850952\n",
            "0.6811833381652832\n",
            "0.6814000010490417\n",
            "0.6817499995231628\n",
            "0.6821333169937134\n",
            "0.682366669178009\n",
            "0.6824333667755127\n",
            "0.6828833222389221\n",
            "0.6830166578292847\n",
            "0.6833166480064392\n",
            "0.6833333373069763\n",
            "0.68340003490448\n",
            "0.683483362197876\n",
            "0.6836666464805603\n",
            "0.6840333342552185\n",
            "0.6841833591461182\n",
            "0.6847666501998901\n",
            "0.685366690158844\n",
            "0.6854666471481323\n",
            "0.6855166554450989\n",
            "0.6856499910354614\n",
            "0.6859333515167236\n",
            "0.6860166788101196\n",
            "0.6861333250999451\n",
            "0.6862999796867371\n",
            "0.6866166591644287\n",
            "0.68708336353302\n",
            "0.6871500015258789\n",
            "0.6872833371162415\n",
            "0.687416672706604\n",
            "0.6875166893005371\n",
            "0.6877166628837585\n",
            "0.6877333521842957\n",
            "0.6880166530609131\n",
            "0.6884000301361084\n",
            "0.688883364200592\n",
            "0.6889833211898804\n",
            "0.6890000104904175\n",
            "0.6898333430290222\n",
            "0.6898999810218811\n",
            "0.690500020980835\n",
            "0.6906333565711975\n",
            "0.6906499862670898\n",
            "0.6908666491508484\n",
            "0.6910333633422852\n",
            "0.691349983215332\n",
            "0.6914499998092651\n",
            "0.6916166543960571\n",
            "0.6919500231742859\n",
            "0.6923333406448364\n",
            "0.692466676235199\n",
            "0.6927333474159241\n",
            "0.6930166482925415\n",
            "0.6931666731834412\n",
            "0.6932666897773743\n",
            "0.6934500336647034\n",
            "0.6935166716575623\n",
            "0.6938333511352539\n",
            "0.6939499974250793\n",
            "0.6940000057220459\n",
            "0.694350004196167\n",
            "0.6946166753768921\n",
            "0.6947500109672546\n",
            "0.6949333548545837\n",
            "0.6951166987419128\n",
            "0.6954833269119263\n",
            "0.6957166790962219\n",
            "0.695900022983551\n",
            "0.696150004863739\n",
            "0.6965000033378601\n",
            "0.6966166496276855\n",
            "0.6967833638191223\n",
            "0.6970833539962769\n",
            "0.6970999836921692\n",
            "0.6971499919891357\n",
            "0.6972166895866394\n",
            "0.6973666548728943\n",
            "0.6974999904632568\n",
            "0.697616696357727\n",
            "0.6980000138282776\n",
            "0.698116660118103\n",
            "0.6983000040054321\n",
            "0.6987167000770569\n",
            "0.6987833380699158\n",
            "0.6988500356674194\n",
            "0.6991166472434998\n",
            "0.6991666555404663\n",
            "0.6993666887283325\n",
            "0.6994666457176208\n",
            "0.699483335018158\n",
            "0.6995166540145874\n",
            "0.699566662311554\n",
            "0.6997500061988831\n",
            "0.6998666524887085\n",
            "0.7000166773796082\n",
            "0.7002000212669373\n",
            "0.7002833485603333\n",
            "0.7003166675567627\n",
            "0.7005833387374878\n",
            "0.7007333636283875\n",
            "0.7008833289146423\n",
            "0.7009166479110718\n",
            "0.7009333372116089\n",
            "0.7010499835014343\n",
            "0.7011500000953674\n",
            "0.7012333273887634\n",
            "0.701366662979126\n",
            "0.7017333507537842\n",
            "0.7018666863441467\n",
            "0.7019000053405762\n",
            "0.7019166946411133\n",
            "0.7020333409309387\n",
            "0.7020500302314758\n",
            "0.7023167014122009\n",
            "0.7028666734695435\n",
            "0.7031000256538391\n",
            "0.7032333612442017\n",
            "0.7033166885375977\n",
            "0.7035166621208191\n",
            "0.7037333250045776\n",
            "0.7041000127792358\n",
            "0.7044500112533569\n",
            "0.7045833468437195\n",
            "0.7048166990280151\n",
            "0.7050666809082031\n",
            "0.7051666975021362\n",
            "0.7053499817848206\n",
            "0.7056000232696533\n",
            "0.7056333422660828\n",
            "0.7056999802589417\n",
            "0.7058833241462708\n",
            "0.705916702747345\n",
            "0.7059666514396667\n",
            "0.7060166597366333\n",
            "0.7060666680335999\n",
            "0.7061333656311035\n",
            "0.7061833143234253\n",
            "0.7062833309173584\n",
            "0.7063833475112915\n",
            "0.7065333127975464\n",
            "0.706683337688446\n",
            "0.706933319568634\n",
            "0.7072499990463257\n",
            "0.7072666883468628\n",
            "0.7072833180427551\n",
            "0.7074833512306213\n",
            "0.7075499892234802\n",
            "0.7076500058174133\n",
            "0.7077666521072388\n",
            "0.7078666687011719\n",
            "0.7079166769981384\n",
            "0.7080333232879639\n",
            "0.7081666588783264\n",
            "0.7084000110626221\n",
            "0.7084500193595886\n",
            "0.7085166573524475\n",
            "0.7086499929428101\n",
            "0.7087666988372803\n",
            "0.7087833285331726\n",
            "0.7088666558265686\n",
            "0.7088833451271057\n",
            "0.7089000344276428\n",
            "0.7090166807174683\n",
            "0.7090333700180054\n",
            "0.7093333601951599\n",
            "0.7096333503723145\n",
            "0.7097833156585693\n",
            "0.7099000215530396\n",
            "0.710099995136261\n",
            "0.7101166844367981\n",
            "0.7101333141326904\n",
            "0.7101500034332275\n",
            "0.710183322429657\n",
            "0.7102833390235901\n",
            "0.7103833556175232\n",
            "0.7104333639144897\n",
            "0.7108500003814697\n",
            "0.7108666896820068\n",
            "0.7111666798591614\n",
            "0.7111999988555908\n",
            "0.7112666964530945\n",
            "0.711483359336853\n",
            "0.7116833329200745\n",
            "0.7118499875068665\n",
            "0.7118666768074036\n",
            "0.7120000123977661\n",
            "0.7121500372886658\n",
            "0.7124333381652832\n",
            "0.7127166986465454\n",
            "0.7128999829292297\n",
            "0.7132666707038879\n",
            "0.7133499979972839\n",
            "0.7134833335876465\n",
            "0.7135000228881836\n",
            "0.7135999798774719\n",
            "0.7138500213623047\n",
            "0.713866651058197\n",
            "0.7139000296592712\n",
            "0.7141833305358887\n",
            "0.7143333554267883\n",
            "0.7143666744232178\n",
            "0.7145500183105469\n",
            "0.7146000266075134\n",
            "0.714900016784668\n",
            "0.7151166796684265\n",
            "0.7154499888420105\n"
          ]
        }
      ]
    },
    {
      "cell_type": "code",
      "source": [
        "m_random = GPU_data(np.random.randn(10,784))"
      ],
      "metadata": {
        "id": "ULZewyg2Xtve"
      },
      "execution_count": null,
      "outputs": []
    },
    {
      "cell_type": "code",
      "source": [
        "m_random.shape"
      ],
      "metadata": {
        "colab": {
          "base_uri": "https://localhost:8080/"
        },
        "id": "oOmkBIGYXuln",
        "outputId": "b6537df5-155c-47ef-9c96-03c54ae0ecbc"
      },
      "execution_count": null,
      "outputs": [
        {
          "output_type": "execute_result",
          "data": {
            "text/plain": [
              "torch.Size([10, 784])"
            ]
          },
          "metadata": {},
          "execution_count": 139
        }
      ]
    },
    {
      "cell_type": "code",
      "source": [
        "plot(m_random[0,:].reshape(28,28))"
      ],
      "metadata": {
        "colab": {
          "base_uri": "https://localhost:8080/"
        },
        "id": "jy_pT_s6XwgG",
        "outputId": "3d8e8bb6-793f-4ba5-803e-540de8f6a922"
      },
      "execution_count": null,
      "outputs": [
        {
          "output_type": "display_data",
          "data": {
            "text/plain": [
              "<Figure size 700x700 with 1 Axes>"
            ],
            "image/png": "[encoded data removed]"
          },
          "metadata": {}
        }
      ]
    },
    {
      "cell_type": "code",
      "source": [
        "m_best.shape"
      ],
      "metadata": {
        "colab": {
          "base_uri": "https://localhost:8080/"
        },
        "id": "rsP6-RoHXa5H",
        "outputId": "1f4ae71c-d549-4a44-d001-9c711872a341"
      },
      "execution_count": null,
      "outputs": [
        {
          "output_type": "execute_result",
          "data": {
            "text/plain": [
              "torch.Size([10, 784])"
            ]
          },
          "metadata": {},
          "execution_count": 141
        }
      ]
    },
    {
      "cell_type": "code",
      "source": [
        "plot(m_best[0,:].reshape(28,28))"
      ],
      "metadata": {
        "colab": {
          "base_uri": "https://localhost:8080/"
        },
        "id": "YDbH5gq3Xa7f",
        "outputId": "c00f8720-70a2-4ac2-82a1-21ed68387266"
      },
      "execution_count": null,
      "outputs": [
        {
          "output_type": "display_data",
          "data": {
            "text/plain": [
              "<Figure size 700x700 with 1 Axes>"
            ],
            "image/png": "[encoded data removed]"
          },
          "metadata": {}
        }
      ]
    },
    {
      "cell_type": "code",
      "source": [
        "for i in range(10):\n",
        "    plot(m_best[i,:].reshape(28,28))"
      ],
      "metadata": {
        "colab": {
          "base_uri": "https://localhost:8080/",
          "height": 1000
        },
        "id": "E0EGiZ0rXa9n",
        "outputId": "83131af7-8cf6-473f-c203-5eb45dfac1ac"
      },
      "execution_count": null,
      "outputs": [
        {
          "output_type": "display_data",
          "data": {
            "text/plain": [
              "<Figure size 700x700 with 1 Axes>"
            ],
            "image/png": "[encoded data removed]"
          },
          "metadata": {}
        },
        {
          "output_type": "display_data",
          "data": {
            "text/plain": [
              "<Figure size 700x700 with 1 Axes>"
            ],
            "image/png": "[encoded data removed]"
          },
          "metadata": {}
        },
        {
          "output_type": "display_data",
          "data": {
            "text/plain": [
              "<Figure size 700x700 with 1 Axes>"
            ],
            "image/png": "[encoded data removed]"
          },
          "metadata": {}
        },
        {
          "output_type": "display_data",
          "data": {
            "text/plain": [
              "<Figure size 700x700 with 1 Axes>"
            ],
            "image/png": "[encoded data removed]"
          },
          "metadata": {}
        },
        {
          "output_type": "display_data",
          "data": {
            "text/plain": [
              "<Figure size 700x700 with 1 Axes>"
            ],
            "image/png": "[encoded data removed]"
          },
          "metadata": {}
        },
        {
          "output_type": "display_data",
          "data": {
            "text/plain": [
              "<Figure size 700x700 with 1 Axes>"
            ],
            "image/png": "[encoded data removed]"
          },
          "metadata": {}
        },
        {
          "output_type": "display_data",
          "data": {
            "text/plain": [
              "<Figure size 700x700 with 1 Axes>"
            ],
            "image/png": "[encoded data removed]"
          },
          "metadata": {}
        },
        {
          "output_type": "display_data",
          "data": {
            "text/plain": [
              "<Figure size 700x700 with 1 Axes>"
            ],
            "image/png": "[encoded data removed]"
          },
          "metadata": {}
        },
        {
          "output_type": "display_data",
          "data": {
            "text/plain": [
              "<Figure size 700x700 with 1 Axes>"
            ],
            "image/png": "[encoded data removed]"
          },
          "metadata": {}
        },
        {
          "output_type": "display_data",
          "data": {
            "text/plain": [
              "<Figure size 700x700 with 1 Axes>"
            ],
            "image/png": "[encoded data removed]"
          },
          "metadata": {}
        }
      ]
    },
    {
      "cell_type": "code",
      "source": [],
      "metadata": {
        "id": "20Vq4C_CSvng"
      },
      "execution_count": null,
      "outputs": []
    },
    {
      "cell_type": "code",
      "source": [
        "M = GPU_data(np.random.random((100,10,784)))\n",
        "M.shape,X.shape\n",
        "(M@X).shape\n",
        "(torch.argmax((M@X), axis=1) == Y).shape\n",
        "Y.shape\n",
        "y = torch.argmax((M@X), axis=1)\n",
        "score = ((y == Y).sum(1)/len(Y))\n",
        "s = torch.argsort(score,descending=True)\n",
        "score[s]"
      ],
      "metadata": {
        "id": "od7E6ft6zWRG",
        "colab": {
          "base_uri": "https://localhost:8080/"
        },
        "outputId": "fb46b898-2876-4a31-fffa-97b9f3c02e13"
      },
      "execution_count": null,
      "outputs": [
        {
          "output_type": "execute_result",
          "data": {
            "text/plain": [
              "tensor([0.1701, 0.1602, 0.1586, 0.1549, 0.1489, 0.1463, 0.1384, 0.1380, 0.1353,\n",
              "        0.1340, 0.1311, 0.1296, 0.1285, 0.1262, 0.1256, 0.1253, 0.1236, 0.1232,\n",
              "        0.1226, 0.1220, 0.1217, 0.1214, 0.1200, 0.1196, 0.1192, 0.1191, 0.1180,\n",
              "        0.1152, 0.1145, 0.1133, 0.1133, 0.1104, 0.1101, 0.1098, 0.1096, 0.1084,\n",
              "        0.1072, 0.1072, 0.1064, 0.1049, 0.1048, 0.1030, 0.1028, 0.1012, 0.1002,\n",
              "        0.0999, 0.0993, 0.0992, 0.0969, 0.0955, 0.0952, 0.0950, 0.0946, 0.0946,\n",
              "        0.0946, 0.0944, 0.0944, 0.0934, 0.0926, 0.0922, 0.0915, 0.0914, 0.0904,\n",
              "        0.0903, 0.0901, 0.0883, 0.0879, 0.0879, 0.0875, 0.0872, 0.0867, 0.0865,\n",
              "        0.0857, 0.0857, 0.0853, 0.0838, 0.0833, 0.0832, 0.0831, 0.0830, 0.0828,\n",
              "        0.0813, 0.0793, 0.0791, 0.0766, 0.0745, 0.0741, 0.0739, 0.0736, 0.0710,\n",
              "        0.0690, 0.0686, 0.0681, 0.0651, 0.0649, 0.0632, 0.0603, 0.0550, 0.0544,\n",
              "        0.0478], device='cuda:0')"
            ]
          },
          "metadata": {},
          "execution_count": 144
        }
      ]
    },
    {
      "cell_type": "code",
      "source": [],
      "metadata": {
        "id": "KdOFfVvtJbrG"
      },
      "execution_count": null,
      "outputs": []
    },
    {
      "cell_type": "code",
      "source": [
        "N = 100\n",
        "M = GPU_data(np.random.rand(N,10,784))\n",
        "\n",
        "m_best = 0\n",
        "acc_best = 0\n",
        "\n",
        "step = 0.00000000001\n",
        "\n",
        "for i in range(1000000):\n",
        "\n",
        "    y = torch.argmax((M@X), axis=1)\n",
        "    score = ((y == Y).sum(1)/len(Y))\n",
        "    s = torch.argsort(score,descending=True)\n",
        "    M = M[s]\n",
        "\n",
        "    M[50:100] = 0\n",
        "    M[0:50] = M[0]\n",
        "    M[1:] += step*GPU_data(np.random.rand(N-1,10,784))\n",
        "\n",
        "\n",
        "    acc = score[s][0].item()\n",
        "\n",
        "    if acc > acc_best:\n",
        "\n",
        "        m_best = M[0]\n",
        "        acc_best = acc\n",
        "\n",
        "        print(i,acc)"
      ],
      "metadata": {
        "id": "2aoKblkrqTX0",
        "colab": {
          "base_uri": "https://localhost:8080/"
        },
        "outputId": "43c5d085-cc89-4968-dcfc-c8b5aff6f058"
      },
      "execution_count": null,
      "outputs": [
        {
          "output_type": "stream",
          "name": "stdout",
          "text": [
            "0 0.16920000314712524\n",
            "32 0.1764499992132187\n",
            "33 0.20603333413600922\n",
            "34 0.21406666934490204\n",
            "35 0.23358333110809326\n",
            "36 0.24033333361148834\n",
            "37 0.25201666355133057\n",
            "38 0.2727166712284088\n",
            "39 0.2870500087738037\n",
            "40 0.2906666696071625\n",
            "41 0.2919166684150696\n",
            "42 0.29571667313575745\n",
            "43 0.30168333649635315\n",
            "44 0.3111666738986969\n",
            "45 0.322216659784317\n",
            "46 0.32850000262260437\n",
            "47 0.3421333432197571\n",
            "48 0.34751665592193604\n",
            "49 0.35503333806991577\n",
            "50 0.3665499985218048\n",
            "51 0.376716673374176\n",
            "52 0.37956666946411133\n",
            "53 0.38081666827201843\n",
            "54 0.3850666582584381\n",
            "55 0.39008334279060364\n",
            "56 0.3956833481788635\n",
            "57 0.3990333378314972\n",
            "58 0.4062333405017853\n",
            "59 0.41251668334007263\n",
            "60 0.41366666555404663\n",
            "61 0.41796666383743286\n",
            "62 0.42035001516342163\n",
            "63 0.423633337020874\n",
            "64 0.4265333414077759\n",
            "65 0.43025001883506775\n",
            "66 0.4348166584968567\n",
            "67 0.4389166831970215\n",
            "68 0.443533331155777\n",
            "69 0.444516658782959\n",
            "70 0.44893333315849304\n",
            "71 0.45098334550857544\n",
            "72 0.4559166729450226\n",
            "73 0.45660001039505005\n",
            "75 0.4585166573524475\n",
            "76 0.46076667308807373\n",
            "77 0.4622666835784912\n",
            "78 0.4656333327293396\n",
            "79 0.4660166800022125\n",
            "80 0.4673166573047638\n",
            "81 0.46898335218429565\n",
            "82 0.47153332829475403\n",
            "83 0.47333332896232605\n",
            "84 0.4755333364009857\n",
            "85 0.478383332490921\n",
            "88 0.4814000129699707\n",
            "89 0.48276665806770325\n",
            "92 0.48539999127388\n",
            "93 0.4875166714191437\n",
            "94 0.4875500202178955\n",
            "95 0.48908334970474243\n",
            "96 0.4896833300590515\n",
            "97 0.492166668176651\n",
            "98 0.49291667342185974\n",
            "99 0.4958333373069763\n",
            "101 0.498283326625824\n",
            "102 0.49896666407585144\n",
            "103 0.5011833310127258\n",
            "104 0.5012000203132629\n",
            "105 0.503166675567627\n",
            "106 0.5034000277519226\n",
            "108 0.5048166513442993\n",
            "109 0.5055333375930786\n",
            "110 0.5072833299636841\n",
            "111 0.5098833441734314\n",
            "112 0.5135666728019714\n",
            "113 0.5148500204086304\n",
            "114 0.5163500308990479\n",
            "116 0.5174500346183777\n",
            "117 0.5191500186920166\n",
            "118 0.5197166800498962\n",
            "119 0.5231500267982483\n",
            "120 0.5243499875068665\n",
            "121 0.525783360004425\n",
            "122 0.5263500213623047\n",
            "123 0.5268833637237549\n",
            "124 0.5299666523933411\n",
            "125 0.53288334608078\n",
            "126 0.5335166454315186\n",
            "127 0.5341500043869019\n",
            "128 0.5364500284194946\n",
            "129 0.5385000109672546\n",
            "130 0.5391166806221008\n",
            "131 0.5413833260536194\n",
            "132 0.5452499985694885\n",
            "133 0.5463666915893555\n",
            "134 0.54666668176651\n",
            "135 0.5474666953086853\n",
            "136 0.5489333271980286\n",
            "137 0.550516664981842\n",
            "138 0.5516499876976013\n",
            "139 0.5535500049591064\n",
            "140 0.5553333163261414\n",
            "141 0.558566689491272\n",
            "142 0.5591333508491516\n",
            "143 0.5616999864578247\n",
            "144 0.5621333122253418\n",
            "147 0.5629333257675171\n",
            "148 0.5633166432380676\n",
            "149 0.5647500157356262\n",
            "150 0.5665666460990906\n",
            "152 0.5670666694641113\n",
            "154 0.5682166814804077\n",
            "155 0.5691666603088379\n",
            "156 0.5715833306312561\n",
            "157 0.5726833343505859\n",
            "158 0.5742000341415405\n",
            "159 0.5749499797821045\n",
            "160 0.5768333673477173\n",
            "161 0.5775666832923889\n",
            "162 0.5786666870117188\n",
            "163 0.5799166560173035\n",
            "164 0.5805500149726868\n",
            "165 0.5813500285148621\n",
            "166 0.5823500156402588\n",
            "167 0.583133339881897\n",
            "168 0.584600031375885\n",
            "169 0.5857333540916443\n",
            "170 0.5862500071525574\n",
            "171 0.587850034236908\n",
            "172 0.5884833335876465\n",
            "173 0.5914333462715149\n",
            "174 0.5923833250999451\n",
            "175 0.5929833650588989\n",
            "176 0.5941166877746582\n",
            "177 0.5961333513259888\n",
            "178 0.5976333618164062\n",
            "179 0.5981000065803528\n",
            "180 0.5996833443641663\n",
            "181 0.6007166504859924\n",
            "182 0.6022999882698059\n",
            "183 0.6030333638191223\n",
            "184 0.6042166948318481\n",
            "186 0.6050166487693787\n",
            "187 0.6064500212669373\n",
            "191 0.6066833138465881\n",
            "192 0.6080166697502136\n",
            "193 0.6087999939918518\n",
            "194 0.6105499863624573\n",
            "195 0.6114333271980286\n",
            "196 0.6129833459854126\n",
            "197 0.6147333383560181\n",
            "198 0.6148666739463806\n",
            "199 0.6149500012397766\n",
            "200 0.6163333654403687\n",
            "201 0.6168333292007446\n",
            "202 0.6172833442687988\n",
            "203 0.6181333661079407\n",
            "204 0.6190833449363708\n",
            "205 0.6191499829292297\n",
            "206 0.6205166578292847\n",
            "207 0.6215333342552185\n",
            "208 0.621566653251648\n",
            "209 0.6218833327293396\n",
            "210 0.6222333312034607\n",
            "211 0.6240500211715698\n",
            "213 0.6243333220481873\n",
            "214 0.6243833303451538\n",
            "217 0.6247833371162415\n",
            "218 0.6257500052452087\n",
            "220 0.6260166764259338\n",
            "221 0.6283167004585266\n",
            "223 0.6283833384513855\n",
            "224 0.628766655921936\n",
            "225 0.6293666958808899\n",
            "226 0.6299833655357361\n",
            "227 0.6302333474159241\n",
            "229 0.6306666731834412\n",
            "230 0.6311833262443542\n",
            "232 0.6315500140190125\n",
            "233 0.6328499913215637\n",
            "234 0.633983314037323\n",
            "235 0.6349000334739685\n",
            "240 0.635033369064331\n",
            "241 0.6350833177566528\n",
            "242 0.6357166767120361\n",
            "243 0.6357666850090027\n",
            "244 0.6362666487693787\n",
            "246 0.6365000009536743\n",
            "247 0.636900007724762\n",
            "248 0.6373500227928162\n",
            "249 0.637416660785675\n",
            "250 0.6374833583831787\n",
            "251 0.637499988079071\n",
            "252 0.6377333402633667\n",
            "253 0.6377999782562256\n",
            "254 0.6384166479110718\n",
            "256 0.6389333605766296\n",
            "257 0.6395333409309387\n",
            "259 0.6405500173568726\n",
            "260 0.6411666870117188\n",
            "261 0.6413833498954773\n",
            "262 0.641966700553894\n",
            "264 0.6430333256721497\n",
            "265 0.6431333422660828\n",
            "267 0.6433833241462708\n",
            "269 0.6440666913986206\n",
            "270 0.6446166634559631\n",
            "273 0.6451333165168762\n",
            "277 0.6454333662986755\n",
            "279 0.6455333232879639\n",
            "281 0.6457666754722595\n",
            "282 0.6461166739463806\n",
            "283 0.647100031375885\n",
            "285 0.6473166942596436\n",
            "286 0.6479166746139526\n",
            "287 0.6482999920845032\n",
            "288 0.6492166519165039\n",
            "289 0.6494500041007996\n",
            "290 0.6497166752815247\n",
            "291 0.6500333547592163\n",
            "292 0.6503000259399414\n",
            "293 0.6505333185195923\n",
            "295 0.6511666774749756\n",
            "296 0.651366651058197\n",
            "297 0.6515833139419556\n",
            "298 0.6519166827201843\n",
            "299 0.6522666811943054\n",
            "300 0.6533499956130981\n",
            "301 0.6535666584968567\n",
            "302 0.6539166569709778\n",
            "303 0.6546666622161865\n",
            "304 0.6552667021751404\n",
            "306 0.6561499834060669\n",
            "307 0.6565666794776917\n",
            "308 0.6567333340644836\n",
            "309 0.6569666862487793\n",
            "310 0.6569833159446716\n",
            "312 0.6572166681289673\n",
            "313 0.6575166583061218\n",
            "315 0.6576833128929138\n",
            "321 0.6578333377838135\n",
            "322 0.6580833196640015\n",
            "323 0.6581833362579346\n",
            "325 0.6583666801452637\n",
            "331 0.6586499810218811\n",
            "332 0.6590999960899353\n",
            "333 0.6594499945640564\n",
            "336 0.6604666709899902\n",
            "337 0.6606666445732117\n",
            "339 0.6610333323478699\n",
            "340 0.6614333391189575\n",
            "342 0.6614500284194946\n",
            "343 0.6622499823570251\n",
            "344 0.6624000072479248\n",
            "345 0.6627166867256165\n",
            "348 0.6630666851997375\n",
            "349 0.6632166504859924\n",
            "351 0.6640333533287048\n",
            "352 0.6643999814987183\n",
            "354 0.6648666858673096\n",
            "355 0.6649333238601685\n",
            "356 0.6651833653450012\n",
            "361 0.6652666926383972\n",
            "362 0.6653167009353638\n",
            "364 0.6654999852180481\n",
            "366 0.6661999821662903\n",
            "367 0.6666833162307739\n",
            "413 0.666700005531311\n",
            "414 0.6668000221252441\n",
            "416 0.6669999957084656\n",
            "429 0.6672166585922241\n",
            "431 0.6674833297729492\n",
            "432 0.6676333546638489\n",
            "433 0.6676999926567078\n",
            "434 0.667816698551178\n",
            "435 0.66798335313797\n",
            "436 0.6680166721343994\n",
            "439 0.6681666970252991\n",
            "440 0.6682500243186951\n",
            "441 0.6685166954994202\n",
            "442 0.6687333583831787\n",
            "443 0.6688833236694336\n",
            "444 0.6691666841506958\n",
            "445 0.6692000031471252\n",
            "446 0.6696333289146423\n",
            "449 0.6699166893959045\n",
            "450 0.6703000068664551\n",
            "451 0.6704999804496765\n",
            "452 0.6708999872207642\n",
            "453 0.6711000204086304\n",
            "454 0.6713500022888184\n",
            "455 0.6717833280563354\n",
            "459 0.6719000339508057\n",
            "466 0.6719333529472351\n",
            "472 0.67208331823349\n",
            "473 0.6721500158309937\n",
            "474 0.6725833415985107\n",
            "475 0.6726166605949402\n",
            "514 0.6728500127792358\n",
            "515 0.6729000210762024\n",
            "516 0.6729833483695984\n",
            "517 0.6734499931335449\n",
            "539 0.6735666990280151\n",
            "553 0.67371666431427\n",
            "556 0.6738333702087402\n",
            "573 0.6738666892051697\n",
            "581 0.673883318901062\n",
            "583 0.6741666793823242\n",
            "588 0.6741999983787537\n",
            "590 0.6743333339691162\n",
            "591 0.6745499968528748\n",
            "592 0.6747333407402039\n",
            "593 0.6747666597366333\n",
            "594 0.6750666499137878\n",
            "597 0.6753666996955872\n",
            "600 0.6756333112716675\n",
            "603 0.6756500005722046\n",
            "608 0.6759166717529297\n",
            "611 0.6760333180427551\n",
            "612 0.6764333248138428\n",
            "614 0.6767666935920715\n",
            "623 0.6768167018890381\n",
            "624 0.6771000027656555\n",
            "633 0.6773999929428101\n",
            "635 0.6774166822433472\n",
            "638 0.6776000261306763\n",
            "755 0.6778333187103271\n",
            "775 0.6778666973114014\n",
            "777 0.6781166791915894\n",
            "778 0.6781333684921265\n",
            "779 0.6781833171844482\n",
            "780 0.678849995136261\n",
            "781 0.6789667010307312\n",
            "782 0.679016649723053\n",
            "787 0.6792500019073486\n",
            "790 0.6793833374977112\n",
            "791 0.6795666813850403\n",
            "792 0.6797833442687988\n",
            "794 0.6798166632652283\n",
            "796 0.6799333691596985\n",
            "802 0.6801833510398865\n",
            "803 0.6802999973297119\n",
            "805 0.6805166602134705\n",
            "809 0.6805333495140076\n",
            "810 0.6806666851043701\n",
            "811 0.6810166835784912\n",
            "813 0.6810500025749207\n",
            "815 0.6810666918754578\n",
            "817 0.6811666488647461\n",
            "820 0.6812666654586792\n",
            "822 0.6813499927520752\n",
            "824 0.6814000010490417\n",
            "825 0.6820833683013916\n",
            "846 0.682116687297821\n",
            "852 0.6822500228881836\n",
            "959 0.6823000311851501\n",
            "967 0.6824166774749756\n",
            "971 0.6826000213623047\n",
            "983 0.6827499866485596\n",
            "984 0.6828333139419556\n",
            "987 0.6830333471298218\n",
            "988 0.6832833290100098\n",
            "992 0.6834666728973389\n",
            "1024 0.6835333704948425\n",
            "1027 0.6835500001907349\n",
            "1042 0.6836000084877014\n",
            "1043 0.6836333274841309\n",
            "1045 0.6836666464805603\n",
            "1048 0.6837666630744934\n",
            "1051 0.6839166879653931\n",
            "1082 0.6839333176612854\n",
            "1087 0.6841833591461182\n",
            "1095 0.6843833327293396\n",
            "1206 0.6844333410263062\n",
            "1212 0.6844666600227356\n",
            "1229 0.6845333576202393\n",
            "1232 0.6846666932106018\n",
            "1233 0.6848833560943604\n",
            "1234 0.6849166750907898\n",
            "1237 0.685283362865448\n",
            "1243 0.6854166984558105\n",
            "1251 0.6854666471481323\n",
            "1254 0.6854833364486694\n",
            "1260 0.6856833696365356\n",
            "1262 0.6857333183288574\n",
            "1285 0.6858166456222534\n",
            "1302 0.6860666871070862\n",
            "1304 0.6861000061035156\n",
            "1312 0.6861333250999451\n",
            "1313 0.6861667037010193\n",
            "1317 0.6865000128746033\n",
            "1319 0.6865167021751404\n",
            "1734 0.6866999864578247\n",
            "1762 0.6867333650588989\n",
            "1768 0.6868166923522949\n",
            "1776 0.6868667006492615\n",
            "1778 0.6870499849319458\n",
            "1784 0.6870999932289124\n",
            "1785 0.6871500015258789\n",
            "1790 0.687166690826416\n",
            "1791 0.6873500347137451\n",
            "1816 0.6874833703041077\n",
            "1818 0.6875\n",
            "1819 0.6875500082969666\n",
            "1825 0.6878166794776917\n",
            "1827 0.6878333687782288\n",
            "1831 0.6878833174705505\n",
            "1833 0.6881666779518127\n",
            "1841 0.6884000301361084\n",
            "1843 0.6884833574295044\n",
            "1845 0.689050018787384\n",
            "1846 0.6891000270843506\n",
            "1880 0.6892833113670349\n",
            "1896 0.6894000172615051\n",
            "1897 0.68954998254776\n",
            "1918 0.6895666718482971\n",
            "1921 0.6899166703224182\n",
            "1923 0.6903499960899353\n",
            "1928 0.6905166506767273\n",
            "1930 0.6905500292778015\n",
            "1944 0.690583348274231\n",
            "1956 0.6906499862670898\n",
            "1972 0.6908666491508484\n",
            "1976 0.6909833550453186\n",
            "1984 0.6910333633422852\n",
            "2005 0.6910499930381775\n",
            "2009 0.69118332862854\n",
            "2044 0.6915500164031982\n",
            "2051 0.6915833353996277\n",
            "2058 0.6916666626930237\n",
            "2059 0.6917333602905273\n",
            "2062 0.6917999982833862\n",
            "2089 0.6919333338737488\n",
            "2092 0.6919833421707153\n",
            "2102 0.6923500299453735\n",
            "2115 0.6924166679382324\n",
            "2116 0.6924499869346619\n",
            "2117 0.6924833655357361\n",
            "2135 0.692716658115387\n",
            "2136 0.692883312702179\n",
            "2137 0.6930833458900452\n",
            "2150 0.6932166814804077\n",
            "2157 0.6933333277702332\n",
            "2172 0.6933833360671997\n",
            "2408 0.6934500336647034\n",
            "2413 0.6935499906539917\n",
            "2492 0.6935666799545288\n",
            "2505 0.6936166882514954\n",
            "2661 0.6937166452407837\n",
            "2667 0.6938999891281128\n",
            "2668 0.694100022315979\n",
            "2669 0.6941500306129456\n",
            "2674 0.694266676902771\n",
            "2675 0.6944000124931335\n",
            "2678 0.6946166753768921\n",
            "2679 0.6946499943733215\n",
            "2682 0.6949499845504761\n",
            "2689 0.6950166821479797\n",
            "2696 0.6951500177383423\n",
            "2708 0.6951833367347717\n",
            "2744 0.6953166723251343\n",
            "2781 0.6954333186149597\n",
            "2793 0.6955666542053223\n",
            "2842 0.6956499814987183\n",
            "2844 0.6962000131607056\n",
            "2940 0.696233332157135\n",
            "2973 0.6962666511535645\n",
            "2975 0.6964333653450012\n",
            "2979 0.6964666843414307\n",
            "2980 0.6966166496276855\n",
            "2984 0.6968500018119812\n",
            "2986 0.6969833374023438\n",
            "2991 0.6970666646957397\n",
            "3001 0.6970833539962769\n",
            "3002 0.6970999836921692\n",
            "3003 0.6971166729927063\n",
            "3004 0.697266697883606\n",
            "3006 0.6973333358764648\n",
            "3007 0.6973666548728943\n",
            "3010 0.6975666880607605\n",
            "3022 0.6976333260536194\n",
            "3061 0.6976666450500488\n",
            "3062 0.6977333426475525\n",
            "3064 0.697866678237915\n",
            "3066 0.6980500221252441\n",
            "3069 0.6983000040054321\n",
            "3075 0.6984166502952576\n",
            "3080 0.6985000371932983\n",
            "3083 0.6985499858856201\n",
            "3084 0.6985833644866943\n",
            "3086 0.6987000107765198\n",
            "3090 0.6990166902542114\n",
            "3093 0.6992999911308289\n",
            "3645 0.6994166970252991\n",
            "3664 0.6994333267211914\n",
            "3669 0.6997833251953125\n",
            "3670 0.6998167037963867\n",
            "3687 0.6998500227928162\n",
            "3736 0.7000499963760376\n",
            "3751 0.7001500129699707\n",
            "3793 0.7002833485603333\n",
            "4653 0.7003166675567627\n",
            "4702 0.7003333568572998\n",
            "4708 0.7003833651542664\n",
            "4726 0.7005666494369507\n",
            "4798 0.7006500363349915\n",
            "4812 0.7007833123207092\n",
            "4815 0.7008000016212463\n",
            "4817 0.7010666728019714\n",
            "4858 0.7010833621025085\n",
            "4967 0.7011333703994751\n",
            "5016 0.7011666893959045\n",
            "5025 0.7013833522796631\n",
            "5036 0.7014166712760925\n",
            "5047 0.7015833258628845\n",
            "5050 0.7016000151634216\n",
            "5085 0.7016333341598511\n",
            "5089 0.7016500234603882\n",
            "5095 0.7017333507537842\n",
            "5098 0.7017666697502136\n",
            "5272 0.7017999887466431\n",
            "5294 0.7018499970436096\n",
            "5296 0.7019166946411133\n",
            "5300 0.7020166516304016\n",
            "5308 0.7020833492279053\n",
            "5309 0.7021166682243347\n",
            "5320 0.7021333575248718\n",
            "5326 0.7021833658218384\n",
            "5336 0.7023000121116638\n",
            "5359 0.7023500204086304\n",
            "5363 0.7025166749954224\n",
            "5375 0.7025666832923889\n",
            "5433 0.7025833129882812\n",
            "5490 0.7026833295822144\n",
            "5900 0.7027833461761475\n",
            "7815 0.7028000354766846\n",
            "7922 0.7028499841690063\n",
            "8235 0.7029833197593689\n",
            "8390 0.7030333280563354\n",
            "8474 0.703083336353302\n",
            "8770 0.7031333446502686\n",
            "8785 0.7031500339508057\n",
            "8790 0.7032333612442017\n",
            "8801 0.7032833695411682\n",
            "8885 0.7033666968345642\n",
            "8892 0.7033833265304565\n",
            "8895 0.7034833431243896\n",
            "8933 0.7037333250045776\n",
            "9012 0.7038333415985107\n",
            "9230 0.7039166688919067\n",
            "9235 0.7039666771888733\n",
            "9247 0.7039999961853027\n",
            "9272 0.7040500044822693\n",
            "9275 0.7042499780654907\n",
            "9278 0.7043666839599609\n",
            "9283 0.7044333219528198\n",
            "9287 0.704466700553894\n",
            "9299 0.7047333121299744\n",
            "9300 0.7047500014305115\n",
            "9303 0.7050999999046326\n",
            "9309 0.705216646194458\n",
            "9326 0.7053000330924988\n",
            "9376 0.7054499983787537\n",
            "9568 0.7055000066757202\n",
            "9569 0.7057666778564453\n",
            "9668 0.7058333158493042\n",
            "9669 0.7059833407402039\n",
            "9757 0.706083357334137\n",
            "9800 0.7061499953269958\n",
            "9887 0.7063000202178955\n",
            "10006 0.7063500285148621\n",
            "10031 0.7063833475112915\n",
            "10137 0.7064333558082581\n",
            "10446 0.7064999938011169\n",
            "10448 0.7065500020980835\n",
            "10478 0.70660001039505\n",
            "10674 0.7066166996955872\n",
            "11278 0.7066666483879089\n",
            "11351 0.7067166566848755\n",
            "11358 0.706849992275238\n",
            "11372 0.7068666815757751\n",
            "11436 0.7069000005722046\n",
            "11482 0.7069500088691711\n",
            "11610 0.7070333361625671\n",
            "11685 0.7071000337600708\n",
            "11731 0.7071333527565002\n",
            "11735 0.7071999907493591\n",
            "11963 0.7074000239372253\n",
            "12133 0.7074999809265137\n",
            "12222 0.7075166702270508\n",
            "12499 0.7077000141143799\n",
            "12693 0.707800030708313\n",
            "12699 0.7078333497047424\n",
            "12731 0.7079833149909973\n",
            "13389 0.7080166935920715\n",
            "16957 0.708133339881897\n",
            "16969 0.7085833549499512\n",
            "17016 0.7088333368301392\n",
            "17263 0.7089333534240723\n",
            "17306 0.7089833617210388\n",
            "17312 0.7090666890144348\n",
            "17417 0.7091166973114014\n",
            "17440 0.7091666460037231\n",
            "17442 0.7092000246047974\n",
            "17449 0.7093499898910522\n",
            "17452 0.7094166874885559\n",
            "17467 0.709600031375885\n",
            "17989 0.7100499868392944\n",
            "18032 0.7101500034332275\n",
            "18048 0.7102833390235901\n",
            "18050 0.7103000283241272\n",
            "18066 0.7103500366210938\n",
            "18069 0.7104833126068115\n",
            "18072 0.7106666564941406\n",
            "18104 0.7107666730880737\n",
            "18120 0.7108166813850403\n",
            "18122 0.7110000252723694\n",
            "18376 0.7110833525657654\n",
            "18394 0.7111666798591614\n",
            "18413 0.7112166881561279\n",
            "19557 0.7112666964530945\n",
            "19802 0.7114333510398865\n",
            "19836 0.7115333676338196\n",
            "19866 0.7116000056266785\n",
            "20026 0.7116833329200745\n",
            "20483 0.7117666602134705\n",
            "20487 0.7117999792098999\n",
            "20518 0.711816668510437\n",
            "20570 0.711899995803833\n",
            "20576 0.7120000123977661\n",
            "20696 0.7121000289916992\n",
            "20793 0.7122166752815247\n",
            "20886 0.7122499942779541\n",
            "20917 0.7123500108718872\n",
            "20921 0.7123833298683167\n",
            "20923 0.7126500010490417\n",
            "20924 0.7126833200454712\n",
            "20926 0.7128166556358337\n",
            "20952 0.7128333449363708\n",
            "21072 0.7129833698272705\n",
            "21174 0.7129999995231628\n",
            "21289 0.7131166458129883\n",
            "21320 0.7131833434104919\n",
            "21321 0.7133166790008545\n",
            "21393 0.7135000228881836\n",
            "22372 0.7135999798774719\n",
            "22721 0.7136333584785461\n",
            "23435 0.7136833667755127\n",
            "23440 0.7137166857719421\n",
            "23481 0.7138500213623047\n",
            "24405 0.7139000296592712\n",
            "24465 0.7139166593551636\n",
            "24485 0.713949978351593\n",
            "24532 0.7140499949455261\n",
            "24637 0.7140666842460632\n",
            "24684 0.7141833305358887\n",
            "24717 0.7142000198364258\n",
            "25203 0.7142500281333923\n",
            "25347 0.7143000364303589\n",
            "25384 0.7144166827201843\n",
            "25412 0.7145833373069763\n",
            "25471 0.71465003490448\n",
            "25477 0.7147499918937683\n",
            "25483 0.7148333191871643\n",
            "25488 0.7150333523750305\n",
            "25514 0.7150499820709229\n",
            "25524 0.7150833606719971\n",
            "25538 0.7151833176612854\n",
            "25541 0.7153500318527222\n",
            "25586 0.7154333591461182\n",
            "25589 0.7155666947364807\n",
            "25605 0.7157166600227356\n",
            "25648 0.715749979019165\n",
            "25652 0.7160333395004272\n",
            "25664 0.7161000370979309\n",
            "25667 0.7161499857902527\n",
            "25672 0.7162500023841858\n",
            "25674 0.7165499925613403\n",
            "25682 0.7167166471481323\n",
            "25684 0.7169166803359985\n",
            "25689 0.7169333696365356\n",
            "25690 0.717033326625824\n",
            "25691 0.7171833515167236\n",
            "25716 0.7173166871070862\n",
            "25773 0.7176833152770996\n",
            "25774 0.7180500030517578\n",
            "25872 0.7180666923522949\n",
            "25900 0.7181333303451538\n",
            "25931 0.7182000279426575\n",
            "25937 0.7182666659355164\n",
            "26036 0.71833336353302\n",
            "26300 0.7184000015258789\n",
            "26301 0.7184833288192749\n",
            "26363 0.7185166478157043\n",
            "26390 0.718583345413208\n",
            "26395 0.7186999917030334\n",
            "26396 0.71875\n",
            "26397 0.7188833355903625\n",
            "26410 0.7191833257675171\n",
            "27413 0.7193333506584167\n",
            "33862 0.7193833589553833\n",
            "43804 0.7194666862487793\n",
            "46939 0.7194833159446716\n"
          ]
        }
      ]
    },
    {
      "cell_type": "code",
      "source": [
        "y_test = torch.argmax((M@X_test), axis=1)\n",
        "score = ((y_test == Y_test).sum(1)/len(Y_test))\n",
        "s = torch.argsort(score,descending=True)\n",
        "acc_test = score[s][0].item()"
      ],
      "metadata": {
        "id": "b-ZbXHH_gMth"
      },
      "execution_count": null,
      "outputs": []
    },
    {
      "cell_type": "code",
      "source": [
        "X_test.shape"
      ],
      "metadata": {
        "id": "nozKM2FpnpZH"
      },
      "execution_count": null,
      "outputs": []
    },
    {
      "cell_type": "code",
      "source": [
        "acc_test"
      ],
      "metadata": {
        "id": "01fixDvfPG54"
      },
      "execution_count": null,
      "outputs": []
    },
    {
      "cell_type": "code",
      "source": [
        "y_test[0]"
      ],
      "metadata": {
        "id": "eNi2VS0BlR6r"
      },
      "execution_count": null,
      "outputs": []
    },
    {
      "cell_type": "code",
      "source": [
        "Y_test"
      ],
      "metadata": {
        "id": "Cd3vYXcpmVrr"
      },
      "execution_count": null,
      "outputs": []
    },
    {
      "cell_type": "code",
      "source": [
        "for i in range(10):\n",
        "\n",
        "    guess = y_test[0,i].item()\n",
        "    answer = int(Y_test[i])\n",
        "\n",
        "    title = f\"Guess: {guess}   ---   Actual: {answer}\"\n",
        "    plot(X_test[:,i].reshape(28,28),title)\n"
      ],
      "metadata": {
        "id": "05_GcsnvmVue"
      },
      "execution_count": null,
      "outputs": []
    },
    {
      "cell_type": "code",
      "source": [],
      "metadata": {
        "id": "M7ZDXwMtmVxY"
      },
      "execution_count": null,
      "outputs": []
    },
    {
      "cell_type": "code",
      "source": [],
      "metadata": {
        "id": "nzhbfAtWp5mD"
      },
      "execution_count": null,
      "outputs": []
    },
    {
      "cell_type": "code",
      "source": [
        "import numpy as np\n",
        "import matplotlib.pyplot as plt\n",
        "import base64\n",
        "from io import BytesIO\n",
        "\n",
        "def plot(x, title=None):\n",
        "    if type(x) == torch.Tensor:\n",
        "        x = x.cpu().detach().numpy()\n",
        "\n",
        "    fig, ax = plt.subplots()\n",
        "    im = ax.imshow(x, cmap='gray')\n",
        "    ax.axis('off')\n",
        "    fig.set_size_inches(7, 7)\n",
        "    plt.title(title)\n",
        "\n",
        "# Convert the matplotlib plot to a base64 encoded image\n",
        "def plot_to_base64():\n",
        "    buf = BytesIO()\n",
        "    plt.savefig(buf, format=\"png\", bbox_inches='tight')\n",
        "    plt.close()\n",
        "    return base64.b64encode(buf.getvalue()).decode('utf-8')\n",
        "\n",
        "# Generate the HTML content\n",
        "html_content = \"<html><body>\"\n",
        "\n",
        "for i in range(10):\n",
        "\n",
        "    guess = y_test[0, i].item()\n",
        "    answer = int(Y_test[i])\n",
        "\n",
        "    title = f\"Guess: {guess}   ---   Actual: {answer}\"\n",
        "    plot(X_test[:,i].reshape(28,28),title)\n",
        "    img_b64 = plot_to_base64()\n",
        "\n",
        "\n",
        "    html_content += f\"<h3>{title}</h3>\"\n",
        "    html_content += f'<img src=\"data:image/png;base64,{img_b64}\" alt=\"{title}\" />'\n",
        "\n",
        "\n",
        "html_content += \"</body></html>\"\n",
        "\n",
        "\n",
        "# Write the HTML content to a file\n",
        "print(html_content, file=open(\"output.html\",'w'))"
      ],
      "metadata": {
        "id": "QnyY0JVXp5oo"
      },
      "execution_count": null,
      "outputs": []
    },
    {
      "cell_type": "code",
      "source": [
        "import IPython\n",
        "IPython.display.HTML(filename='output.html')"
      ],
      "metadata": {
        "id": "KuiLr_Kqp6NO"
      },
      "execution_count": null,
      "outputs": []
    },
    {
      "cell_type": "code",
      "source": [],
      "metadata": {
        "id": "hhmoSSjcs2M2"
      },
      "execution_count": null,
      "outputs": []
    }
  ],
  "metadata": {
    "accelerator": "GPU",
    "colab": {
      "provenance": []
    },
    "kernelspec": {
      "display_name": "Python 3",
      "name": "python3"
    }
  },
  "nbformat": 4,
  "nbformat_minor": 0
}